{
 "cells": [
  {
   "cell_type": "code",
   "execution_count": 1,
   "id": "competitive-saint",
   "metadata": {},
   "outputs": [],
   "source": [
    "%load_ext autoreload\n",
    "%autoreload 2\n",
    "\n",
    "import os\n",
    "\n",
    "import numpy as np\n",
    "import pandas as pd\n",
    "import matplotlib.pyplot as plt\n",
    "import seaborn as sns\n",
    "\n",
    "from bs4 import BeautifulSoup as bsoup\n",
    "from thefuzz import fuzz\n",
    "\n",
    "from typing import Any, List, Dict, Tuple, Optional\n",
    "\n",
    "import constants, index_tools, data_tools\n",
    "\n",
    "from utilities import *\n",
    "\n",
    "if is_jupyter_notebook():\n",
    "    from tqdm.notebook import tqdm\n",
    "else:\n",
    "    from tqdm import tqdm"
   ]
  },
  {
   "cell_type": "markdown",
   "id": "7fff548e",
   "metadata": {},
   "source": [
    "# Data Index"
   ]
  },
  {
   "cell_type": "code",
   "execution_count": 26,
   "id": "cff3d9d3",
   "metadata": {},
   "outputs": [],
   "source": [
    "biobank_index_full = index_tools.load_index()"
   ]
  },
  {
   "cell_type": "code",
   "execution_count": 27,
   "id": "79fc8e26",
   "metadata": {},
   "outputs": [],
   "source": [
    "biobank_index_full = index_tools.add_udi_names_to_index(biobank_index_full)\n",
    "udi_map = index_tools.UDIMap(biobank_index_full)"
   ]
  },
  {
   "cell_type": "markdown",
   "id": "80b89557",
   "metadata": {},
   "source": [
    "# Load BioBank Data"
   ]
  },
  {
   "cell_type": "code",
   "execution_count": 32,
   "id": "82c36c20",
   "metadata": {},
   "outputs": [
    {
     "name": "stdout",
     "output_type": "stream",
     "text": [
      "UK BioBank Data Loaded.\n",
      "Size: 9999 rows x 2781 columns\n"
     ]
    },
    {
     "data": {
      "text/html": [
       "<div>\n",
       "<style scoped>\n",
       "    .dataframe tbody tr th:only-of-type {\n",
       "        vertical-align: middle;\n",
       "    }\n",
       "\n",
       "    .dataframe tbody tr th {\n",
       "        vertical-align: top;\n",
       "    }\n",
       "\n",
       "    .dataframe thead th {\n",
       "        text-align: right;\n",
       "    }\n",
       "</style>\n",
       "<table border=\"1\" class=\"dataframe\">\n",
       "  <thead>\n",
       "    <tr style=\"text-align: right;\">\n",
       "      <th></th>\n",
       "      <th>eid</th>\n",
       "      <th>verbal_interview_duration</th>\n",
       "      <th>verbal_interview_duration_1.0</th>\n",
       "      <th>verbal_interview_duration_2.0</th>\n",
       "      <th>sex</th>\n",
       "      <th>birth_year</th>\n",
       "      <th>bp_device</th>\n",
       "      <th>bp_device_1.0</th>\n",
       "      <th>bp_device_2.0</th>\n",
       "      <th>bp_manual_device_ID</th>\n",
       "      <th>...</th>\n",
       "      <th>operative_procedures_OPCS4_secondary_0.82</th>\n",
       "      <th>operative_procedures_OPCS4_secondary_0.83</th>\n",
       "      <th>operative_procedures_OPCS4_secondary_0.84</th>\n",
       "      <th>operative_procedures_OPCS4_secondary_0.85</th>\n",
       "      <th>important_unlabeled_34</th>\n",
       "      <th>inpatient_record_format</th>\n",
       "      <th>inpatient_record_format_0.1</th>\n",
       "      <th>inpatient_record_format_0.2</th>\n",
       "      <th>inpatient_record_format_0.3</th>\n",
       "      <th>inpatient_record_format_0.4</th>\n",
       "    </tr>\n",
       "  </thead>\n",
       "  <tbody>\n",
       "    <tr>\n",
       "      <th>0</th>\n",
       "      <td>1000013</td>\n",
       "      <td>485.0</td>\n",
       "      <td>NaN</td>\n",
       "      <td>NaN</td>\n",
       "      <td>1</td>\n",
       "      <td>1962</td>\n",
       "      <td>2817.0</td>\n",
       "      <td>NaN</td>\n",
       "      <td>NaN</td>\n",
       "      <td>NaN</td>\n",
       "      <td>...</td>\n",
       "      <td>NaN</td>\n",
       "      <td>NaN</td>\n",
       "      <td>NaN</td>\n",
       "      <td>NaN</td>\n",
       "      <td>1.0</td>\n",
       "      <td>18.0</td>\n",
       "      <td>NaN</td>\n",
       "      <td>NaN</td>\n",
       "      <td>NaN</td>\n",
       "      <td>NaN</td>\n",
       "    </tr>\n",
       "    <tr>\n",
       "      <th>1</th>\n",
       "      <td>1000024</td>\n",
       "      <td>328.0</td>\n",
       "      <td>NaN</td>\n",
       "      <td>NaN</td>\n",
       "      <td>0</td>\n",
       "      <td>1941</td>\n",
       "      <td>1054.0</td>\n",
       "      <td>NaN</td>\n",
       "      <td>NaN</td>\n",
       "      <td>NaN</td>\n",
       "      <td>...</td>\n",
       "      <td>NaN</td>\n",
       "      <td>NaN</td>\n",
       "      <td>NaN</td>\n",
       "      <td>NaN</td>\n",
       "      <td>1.0</td>\n",
       "      <td>6.0</td>\n",
       "      <td>NaN</td>\n",
       "      <td>NaN</td>\n",
       "      <td>NaN</td>\n",
       "      <td>NaN</td>\n",
       "    </tr>\n",
       "    <tr>\n",
       "      <th>2</th>\n",
       "      <td>1000036</td>\n",
       "      <td>364.0</td>\n",
       "      <td>NaN</td>\n",
       "      <td>NaN</td>\n",
       "      <td>0</td>\n",
       "      <td>1955</td>\n",
       "      <td>3159.0</td>\n",
       "      <td>NaN</td>\n",
       "      <td>NaN</td>\n",
       "      <td>NaN</td>\n",
       "      <td>...</td>\n",
       "      <td>NaN</td>\n",
       "      <td>NaN</td>\n",
       "      <td>NaN</td>\n",
       "      <td>NaN</td>\n",
       "      <td>1.0</td>\n",
       "      <td>6.0</td>\n",
       "      <td>NaN</td>\n",
       "      <td>NaN</td>\n",
       "      <td>NaN</td>\n",
       "      <td>NaN</td>\n",
       "    </tr>\n",
       "    <tr>\n",
       "      <th>3</th>\n",
       "      <td>1000048</td>\n",
       "      <td>322.0</td>\n",
       "      <td>NaN</td>\n",
       "      <td>NaN</td>\n",
       "      <td>1</td>\n",
       "      <td>1941</td>\n",
       "      <td>3780.0</td>\n",
       "      <td>NaN</td>\n",
       "      <td>NaN</td>\n",
       "      <td>NaN</td>\n",
       "      <td>...</td>\n",
       "      <td>NaN</td>\n",
       "      <td>NaN</td>\n",
       "      <td>NaN</td>\n",
       "      <td>NaN</td>\n",
       "      <td>1.0</td>\n",
       "      <td>18.0</td>\n",
       "      <td>NaN</td>\n",
       "      <td>NaN</td>\n",
       "      <td>NaN</td>\n",
       "      <td>NaN</td>\n",
       "    </tr>\n",
       "    <tr>\n",
       "      <th>4</th>\n",
       "      <td>1000055</td>\n",
       "      <td>477.0</td>\n",
       "      <td>NaN</td>\n",
       "      <td>NaN</td>\n",
       "      <td>0</td>\n",
       "      <td>1947</td>\n",
       "      <td>3156.0</td>\n",
       "      <td>NaN</td>\n",
       "      <td>NaN</td>\n",
       "      <td>NaN</td>\n",
       "      <td>...</td>\n",
       "      <td>NaN</td>\n",
       "      <td>NaN</td>\n",
       "      <td>NaN</td>\n",
       "      <td>NaN</td>\n",
       "      <td>5.0</td>\n",
       "      <td>6.0</td>\n",
       "      <td>18.0</td>\n",
       "      <td>NaN</td>\n",
       "      <td>NaN</td>\n",
       "      <td>NaN</td>\n",
       "    </tr>\n",
       "  </tbody>\n",
       "</table>\n",
       "<p>5 rows × 2781 columns</p>\n",
       "</div>"
      ],
      "text/plain": [
       "       eid  verbal_interview_duration  verbal_interview_duration_1.0  \\\n",
       "0  1000013                      485.0                            NaN   \n",
       "1  1000024                      328.0                            NaN   \n",
       "2  1000036                      364.0                            NaN   \n",
       "3  1000048                      322.0                            NaN   \n",
       "4  1000055                      477.0                            NaN   \n",
       "\n",
       "   verbal_interview_duration_2.0  sex  birth_year  bp_device  bp_device_1.0  \\\n",
       "0                            NaN    1        1962     2817.0            NaN   \n",
       "1                            NaN    0        1941     1054.0            NaN   \n",
       "2                            NaN    0        1955     3159.0            NaN   \n",
       "3                            NaN    1        1941     3780.0            NaN   \n",
       "4                            NaN    0        1947     3156.0            NaN   \n",
       "\n",
       "   bp_device_2.0  bp_manual_device_ID  ...  \\\n",
       "0            NaN                  NaN  ...   \n",
       "1            NaN                  NaN  ...   \n",
       "2            NaN                  NaN  ...   \n",
       "3            NaN                  NaN  ...   \n",
       "4            NaN                  NaN  ...   \n",
       "\n",
       "   operative_procedures_OPCS4_secondary_0.82  \\\n",
       "0                                        NaN   \n",
       "1                                        NaN   \n",
       "2                                        NaN   \n",
       "3                                        NaN   \n",
       "4                                        NaN   \n",
       "\n",
       "   operative_procedures_OPCS4_secondary_0.83  \\\n",
       "0                                        NaN   \n",
       "1                                        NaN   \n",
       "2                                        NaN   \n",
       "3                                        NaN   \n",
       "4                                        NaN   \n",
       "\n",
       "   operative_procedures_OPCS4_secondary_0.84  \\\n",
       "0                                        NaN   \n",
       "1                                        NaN   \n",
       "2                                        NaN   \n",
       "3                                        NaN   \n",
       "4                                        NaN   \n",
       "\n",
       "  operative_procedures_OPCS4_secondary_0.85 important_unlabeled_34  \\\n",
       "0                                       NaN                    1.0   \n",
       "1                                       NaN                    1.0   \n",
       "2                                       NaN                    1.0   \n",
       "3                                       NaN                    1.0   \n",
       "4                                       NaN                    5.0   \n",
       "\n",
       "  inpatient_record_format  inpatient_record_format_0.1  \\\n",
       "0                    18.0                          NaN   \n",
       "1                     6.0                          NaN   \n",
       "2                     6.0                          NaN   \n",
       "3                    18.0                          NaN   \n",
       "4                     6.0                         18.0   \n",
       "\n",
       "   inpatient_record_format_0.2  inpatient_record_format_0.3  \\\n",
       "0                          NaN                          NaN   \n",
       "1                          NaN                          NaN   \n",
       "2                          NaN                          NaN   \n",
       "3                          NaN                          NaN   \n",
       "4                          NaN                          NaN   \n",
       "\n",
       "   inpatient_record_format_0.4  \n",
       "0                          NaN  \n",
       "1                          NaN  \n",
       "2                          NaN  \n",
       "3                          NaN  \n",
       "4                          NaN  \n",
       "\n",
       "[5 rows x 2781 columns]"
      ]
     },
     "metadata": {},
     "output_type": "display_data"
    }
   ],
   "source": [
    "biobank_data_full = data_tools.load_biobank_data(constants.UK_BIOBANK_DATA_CSV_PATH, udi_map)\n",
    "biobank_index_full = index_tools.add_biobank_info_to_index(biobank_index_full, biobank_data_full)\n",
    "display(biobank_data_full.head())"
   ]
  },
  {
   "cell_type": "code",
   "execution_count": 33,
   "id": "neural-mustang",
   "metadata": {},
   "outputs": [
    {
     "data": {
      "text/plain": [
       "'antibiotic_n_taken_past_3_months'"
      ]
     },
     "execution_count": 33,
     "metadata": {},
     "output_type": "execute_result"
    }
   ],
   "source": [
    "udi_map.get_udi(\"antibiotic_n_taken_past_3_months\")"
   ]
  },
  {
   "cell_type": "code",
   "execution_count": 34,
   "id": "invisible-concentration",
   "metadata": {},
   "outputs": [
    {
     "data": {
      "text/html": [
       "<div>\n",
       "<style scoped>\n",
       "    .dataframe tbody tr th:only-of-type {\n",
       "        vertical-align: middle;\n",
       "    }\n",
       "\n",
       "    .dataframe tbody tr th {\n",
       "        vertical-align: top;\n",
       "    }\n",
       "\n",
       "    .dataframe thead th {\n",
       "        text-align: right;\n",
       "    }\n",
       "</style>\n",
       "<table border=\"1\" class=\"dataframe\">\n",
       "  <thead>\n",
       "    <tr style=\"text-align: right;\">\n",
       "      <th></th>\n",
       "      <th>column</th>\n",
       "      <th>udi</th>\n",
       "      <th>count</th>\n",
       "      <th>type</th>\n",
       "      <th>description</th>\n",
       "      <th>data_code</th>\n",
       "      <th>name</th>\n",
       "      <th>counts</th>\n",
       "      <th>frequency</th>\n",
       "    </tr>\n",
       "  </thead>\n",
       "  <tbody>\n",
       "    <tr>\n",
       "      <th>901</th>\n",
       "      <td>901</td>\n",
       "      <td>6671-2.0</td>\n",
       "      <td>20474</td>\n",
       "      <td>Integer</td>\n",
       "      <td>Number of antibiotics taken in last 3 months</td>\n",
       "      <td>None</td>\n",
       "      <td>None</td>\n",
       "      <td>411</td>\n",
       "      <td>0.041104</td>\n",
       "    </tr>\n",
       "  </tbody>\n",
       "</table>\n",
       "</div>"
      ],
      "text/plain": [
       "     column       udi  count     type  \\\n",
       "901     901  6671-2.0  20474  Integer   \n",
       "\n",
       "                                      description data_code  name  counts  \\\n",
       "901  Number of antibiotics taken in last 3 months      None  None     411   \n",
       "\n",
       "     frequency  \n",
       "901   0.041104  "
      ]
     },
     "execution_count": 34,
     "metadata": {},
     "output_type": "execute_result"
    }
   ],
   "source": [
    "biobank_index_full.loc[biobank_index_full[\"udi\"].apply(lambda s: s.startswith(\"6671\"))]"
   ]
  },
  {
   "cell_type": "code",
   "execution_count": 35,
   "id": "cheap-cameroon",
   "metadata": {},
   "outputs": [
    {
     "data": {
      "text/html": [
       "<div>\n",
       "<style scoped>\n",
       "    .dataframe tbody tr th:only-of-type {\n",
       "        vertical-align: middle;\n",
       "    }\n",
       "\n",
       "    .dataframe tbody tr th {\n",
       "        vertical-align: top;\n",
       "    }\n",
       "\n",
       "    .dataframe thead th {\n",
       "        text-align: right;\n",
       "    }\n",
       "</style>\n",
       "<table border=\"1\" class=\"dataframe\">\n",
       "  <thead>\n",
       "    <tr style=\"text-align: right;\">\n",
       "      <th></th>\n",
       "      <th>column</th>\n",
       "      <th>udi</th>\n",
       "      <th>count</th>\n",
       "      <th>type</th>\n",
       "      <th>description</th>\n",
       "      <th>data_code</th>\n",
       "      <th>name</th>\n",
       "      <th>counts</th>\n",
       "      <th>frequency</th>\n",
       "    </tr>\n",
       "  </thead>\n",
       "  <tbody>\n",
       "    <tr>\n",
       "      <th>901</th>\n",
       "      <td>901</td>\n",
       "      <td>6671-2.0</td>\n",
       "      <td>20474</td>\n",
       "      <td>Integer</td>\n",
       "      <td>Number of antibiotics taken in last 3 months</td>\n",
       "      <td>None</td>\n",
       "      <td>None</td>\n",
       "      <td>411</td>\n",
       "      <td>0.041104</td>\n",
       "    </tr>\n",
       "    <tr>\n",
       "      <th>1759</th>\n",
       "      <td>1759</td>\n",
       "      <td>20199-2.0</td>\n",
       "      <td>1333</td>\n",
       "      <td>Categorical (multiple)</td>\n",
       "      <td>Antibiotic codes for last 3 months</td>\n",
       "      <td>744</td>\n",
       "      <td>None</td>\n",
       "      <td>34</td>\n",
       "      <td>0.003400</td>\n",
       "    </tr>\n",
       "    <tr>\n",
       "      <th>1760</th>\n",
       "      <td>1760</td>\n",
       "      <td>20199-2.1</td>\n",
       "      <td>96</td>\n",
       "      <td>Categorical (multiple)</td>\n",
       "      <td>Antibiotic codes for last 3 months</td>\n",
       "      <td>744</td>\n",
       "      <td>None</td>\n",
       "      <td>3</td>\n",
       "      <td>0.000300</td>\n",
       "    </tr>\n",
       "    <tr>\n",
       "      <th>1761</th>\n",
       "      <td>1761</td>\n",
       "      <td>20199-2.2</td>\n",
       "      <td>14</td>\n",
       "      <td>Categorical (multiple)</td>\n",
       "      <td>Antibiotic codes for last 3 months</td>\n",
       "      <td>744</td>\n",
       "      <td>None</td>\n",
       "      <td>1</td>\n",
       "      <td>0.000100</td>\n",
       "    </tr>\n",
       "    <tr>\n",
       "      <th>1762</th>\n",
       "      <td>1762</td>\n",
       "      <td>20199-2.3</td>\n",
       "      <td>2</td>\n",
       "      <td>Categorical (multiple)</td>\n",
       "      <td>Antibiotic codes for last 3 months</td>\n",
       "      <td>744</td>\n",
       "      <td>None</td>\n",
       "      <td>0</td>\n",
       "      <td>0.000000</td>\n",
       "    </tr>\n",
       "  </tbody>\n",
       "</table>\n",
       "</div>"
      ],
      "text/plain": [
       "      column        udi  count                    type  \\\n",
       "901      901   6671-2.0  20474                 Integer   \n",
       "1759    1759  20199-2.0   1333  Categorical (multiple)   \n",
       "1760    1760  20199-2.1     96  Categorical (multiple)   \n",
       "1761    1761  20199-2.2     14  Categorical (multiple)   \n",
       "1762    1762  20199-2.3      2  Categorical (multiple)   \n",
       "\n",
       "                                       description data_code  name  counts  \\\n",
       "901   Number of antibiotics taken in last 3 months      None  None     411   \n",
       "1759            Antibiotic codes for last 3 months       744  None      34   \n",
       "1760            Antibiotic codes for last 3 months       744  None       3   \n",
       "1761            Antibiotic codes for last 3 months       744  None       1   \n",
       "1762            Antibiotic codes for last 3 months       744  None       0   \n",
       "\n",
       "      frequency  \n",
       "901    0.041104  \n",
       "1759   0.003400  \n",
       "1760   0.000300  \n",
       "1761   0.000100  \n",
       "1762   0.000000  "
      ]
     },
     "execution_count": 35,
     "metadata": {},
     "output_type": "execute_result"
    }
   ],
   "source": [
    "biobank_index_full.loc[biobank_index_full[\"name\"].isna()]"
   ]
  },
  {
   "cell_type": "markdown",
   "id": "separate-outside",
   "metadata": {},
   "source": [
    "# Identify Missing UDIs and create UDI lookup table to fill out"
   ]
  },
  {
   "cell_type": "code",
   "execution_count": 36,
   "id": "variable-curve",
   "metadata": {},
   "outputs": [],
   "source": [
    "missing_name_index = index_tools.get_indices_missing_names(biobank_index_full)"
   ]
  },
  {
   "cell_type": "code",
   "execution_count": 37,
   "id": "operating-mechanism",
   "metadata": {},
   "outputs": [],
   "source": [
    "missing_name_index.to_csv(\"test.csv\", index=False)"
   ]
  },
  {
   "cell_type": "code",
   "execution_count": 38,
   "id": "joined-jimmy",
   "metadata": {},
   "outputs": [
    {
     "data": {
      "text/plain": [
       "0.0017979144192736426"
      ]
     },
     "execution_count": 38,
     "metadata": {},
     "output_type": "execute_result"
    }
   ],
   "source": [
    "biobank_index_full[\"name\"].isna().mean()"
   ]
  },
  {
   "cell_type": "markdown",
   "id": "85744239",
   "metadata": {},
   "source": [
    "# Clean + Reduce feature set"
   ]
  },
  {
   "cell_type": "code",
   "execution_count": 46,
   "id": "9bdce5cb",
   "metadata": {},
   "outputs": [],
   "source": [
    "biobank_data = data_tools.clean_biobank_data(biobank_data_full)\n",
    "\n",
    "reduced_feature_set = data_tools.create_reduced_feature_set(biobank_data)\n",
    "\n",
    "\n",
    "biobank_index = biobank_index_full.loc[biobank_index_full[\"name\"].isin(reduced_feature_set)].reset_index(drop=True)\n",
    "biobank_data = biobank_data_full[reduced_feature_set]"
   ]
  },
  {
   "cell_type": "markdown",
   "id": "654e1323",
   "metadata": {},
   "source": [
    "# BioBank Code Download"
   ]
  },
  {
   "cell_type": "code",
   "execution_count": 47,
   "id": "7aa5f30a",
   "metadata": {},
   "outputs": [
    {
     "name": "stdout",
     "output_type": "stream",
     "text": [
      "code 3 files already exist.\n"
     ]
    }
   ],
   "source": [
    "index_tools.download_biobank_code_data(code=3, overwrite=False)"
   ]
  },
  {
   "cell_type": "code",
   "execution_count": 48,
   "id": "a831a278",
   "metadata": {},
   "outputs": [
    {
     "data": {
      "application/vnd.jupyter.widget-view+json": {
       "model_id": "27c286896919486ebade974f4901061d",
       "version_major": 2,
       "version_minor": 0
      },
      "text/plain": [
       "Downloading BioBank code info:   0%|          | 0/136 [00:00<?, ? code/s]"
      ]
     },
     "metadata": {},
     "output_type": "display_data"
    },
    {
     "name": "stdout",
     "output_type": "stream",
     "text": [
      "code 1 files already exist.\n",
      "code 10 files already exist.\n",
      "code 1001 files already exist.\n",
      "code 1002 files already exist.\n",
      "code 100258 files already exist.\n",
      "code 100259 files already exist.\n",
      "code 100264 files already exist.\n",
      "code 100267 files already exist.\n",
      "code 100286 files already exist.\n",
      "code 100291 files already exist.\n",
      "code 100292 files already exist.\n",
      "code 100294 files already exist.\n",
      "code 100295 files already exist.\n",
      "code 100298 files already exist.\n",
      "code 100299 files already exist.\n",
      "code 100300 files already exist.\n",
      "code 100301 files already exist.\n",
      "code 100347 files already exist.\n",
      "code 100348 files already exist.\n",
      "code 100349 files already exist.\n",
      "code 100351 files already exist.\n",
      "code 100352 files already exist.\n",
      "code 100353 files already exist.\n",
      "code 100355 files already exist.\n",
      "code 100356 files already exist.\n",
      "code 100357 files already exist.\n",
      "code 100358 files already exist.\n",
      "code 100359 files already exist.\n",
      "code 100360 files already exist.\n",
      "code 100361 files already exist.\n",
      "code 100369 files already exist.\n",
      "code 100370 files already exist.\n",
      "code 100373 files already exist.\n",
      "code 100377 files already exist.\n",
      "code 100385 files already exist.\n",
      "code 100387 files already exist.\n",
      "code 100388 files already exist.\n",
      "code 100389 files already exist.\n",
      "code 100391 files already exist.\n",
      "code 100393 files already exist.\n",
      "code 100394 files already exist.\n",
      "code 100397 files already exist.\n",
      "code 100398 files already exist.\n",
      "code 100400 files already exist.\n",
      "code 100401 files already exist.\n",
      "code 100402 files already exist.\n",
      "code 100416 files already exist.\n",
      "code 100417 files already exist.\n",
      "code 100418 files already exist.\n",
      "code 100478 files already exist.\n",
      "code 100479 files already exist.\n",
      "code 100484 files already exist.\n",
      "code 100498 files already exist.\n",
      "code 100499 files already exist.\n",
      "code 100500 files already exist.\n",
      "code 100502 files already exist.\n",
      "code 100508 files already exist.\n",
      "code 100538 files already exist.\n",
      "code 100539 files already exist.\n",
      "code 100540 files already exist.\n",
      "code 100603 files already exist.\n",
      "code 100605 files already exist.\n",
      "code 100610 files already exist.\n",
      "code 100617 files already exist.\n",
      "code 100622 files already exist.\n",
      "code 100625 files already exist.\n",
      "code 100626 files already exist.\n",
      "code 100628 files already exist.\n",
      "code 100629 files already exist.\n",
      "code 100630 files already exist.\n",
      "code 100668 files already exist.\n",
      "code 100669 files already exist.\n",
      "code 100672 files already exist.\n",
      "code 100673 files already exist.\n",
      "code 100674 files already exist.\n",
      "code 100683 files already exist.\n",
      "code 100685 files already exist.\n",
      "code 100688 files already exist.\n",
      "code 100689 files already exist.\n",
      "code 100690 files already exist.\n",
      "code 100691 files already exist.\n",
      "code 100692 files already exist.\n",
      "code 100694 files already exist.\n",
      "code 100695 files already exist.\n",
      "code 1010 files already exist.\n",
      "code 1018 files already exist.\n",
      "code 1021 files already exist.\n",
      "code 1022 files already exist.\n",
      "code 13 files already exist.\n",
      "code 14 files already exist.\n",
      "code 1414 files already exist.\n",
      "code 1415 files already exist.\n",
      "code 170 files already exist.\n",
      "code 1862 files already exist.\n",
      "code 19 files already exist.\n",
      "code 1965 files already exist.\n",
      "code 22000 files already exist.\n",
      "code 240 files already exist.\n",
      "code 261 files already exist.\n",
      "code 262 files already exist.\n",
      "code 263 files already exist.\n",
      "code 2730 files already exist.\n",
      "code 3 files already exist.\n",
      "code 339 files already exist.\n",
      "code 37 files already exist.\n",
      "code 38 files already exist.\n",
      "code 39 files already exist.\n",
      "code 4 files already exist.\n",
      "code 408 files already exist.\n",
      "code 42 files already exist.\n",
      "code 496 files already exist.\n",
      "code 502 files already exist.\n",
      "code 503 files already exist.\n",
      "code 521 files already exist.\n",
      "code 523 files already exist.\n",
      "code 524 files already exist.\n",
      "code 525 files already exist.\n",
      "code 548 files already exist.\n",
      "code 584 files already exist.\n",
      "code 586 files already exist.\n",
      "code 6 files already exist.\n",
      "code 616 files already exist.\n",
      "code 620 files already exist.\n",
      "code 682 files already exist.\n",
      "code 7 files already exist.\n",
      "code 7310 files already exist.\n",
      "code 8 files already exist.\n",
      "code 87 files already exist.\n",
      "code 871 files already exist.\n",
      "code 89 files already exist.\n",
      "code 9 files already exist.\n",
      "code 90 files already exist.\n",
      "code 913 files already exist.\n",
      "code 946 files already exist.\n",
      "code 950 files already exist.\n",
      "code 957 files already exist.\n"
     ]
    }
   ],
   "source": [
    "index_tools.download_all_biobank_codes(biobank_index);"
   ]
  },
  {
   "cell_type": "markdown",
   "id": "ac9195cb",
   "metadata": {},
   "source": [
    "# Feature Exploration"
   ]
  },
  {
   "cell_type": "code",
   "execution_count": 11,
   "id": "12cf0e7e",
   "metadata": {},
   "outputs": [
    {
     "data": {
      "application/vnd.jupyter.widget-view+json": {
       "model_id": "12caa8f6e83049a0b52b3bc543b2d347",
       "version_major": 2,
       "version_minor": 0
      },
      "text/plain": [
       "Analyzing features:   0%|          | 0/370 [00:00<?, ? feature/s]"
      ]
     },
     "metadata": {},
     "output_type": "display_data"
    }
   ],
   "source": [
    "feature_data = {\"feature\": [], \"feature_samples\": [], \"n_unique\": []}\n",
    "\n",
    "for column in tqdm(biobank_data.columns, desc=\"Analyzing features\", unit=\" feature\"):\n",
    "    unique_features = biobank_data[column].unique()\n",
    "    feature_data[\"feature_samples\"].append(np.random.choice(unique_features, min(5, len(unique_features))))\n",
    "    feature_data[\"feature\"].append(column)\n",
    "    feature_data[\"n_unique\"].append(len(unique_features))\n",
    "    \n",
    "feature_data = pd.DataFrame(feature_data)"
   ]
  },
  {
   "cell_type": "code",
   "execution_count": 12,
   "id": "eac4fea3",
   "metadata": {},
   "outputs": [],
   "source": [
    "UK_BIOBANK_FEATURE_VALUE_REMAPPING = {\n",
    "    \"sex\": [\"female\", \"male\"]\n",
    "}"
   ]
  },
  {
   "cell_type": "markdown",
   "id": "c49545b1",
   "metadata": {},
   "source": [
    "# Feature Index EDA"
   ]
  },
  {
   "cell_type": "code",
   "execution_count": 13,
   "id": "708c3b0d",
   "metadata": {},
   "outputs": [
    {
     "data": {
      "image/png": "[encoded data removed]",
      "text/plain": [
       "<Figure size 1008x432 with 1 Axes>"
      ]
     },
     "metadata": {},
     "output_type": "display_data"
    }
   ],
   "source": [
    "fig, ax = plt.subplots(figsize=(14, 6), facecolor=\"#fffffe\")\n",
    "sns.histplot(biobank_index_full[\"frequency\"], ax=ax)\n",
    "ax.set_yscale(\"log\")\n",
    "add_plt_labels(ax, \"Data Frequency\", \"Count\", \"Feature Frequency Distributions\")\n",
    "plt.show()\n",
    "fig.tight_layout()\n",
    "fig.savefig(constants.COVER_PLOTS_GENERIC_FILE_PATH.format(\"feature_frequency_distribution.png\"), facecolor=\"#fffffe\")"
   ]
  },
  {
   "cell_type": "markdown",
   "id": "0b4de579",
   "metadata": {},
   "source": [
    "# actual EDA"
   ]
  },
  {
   "cell_type": "code",
   "execution_count": 14,
   "id": "7208ab51",
   "metadata": {},
   "outputs": [],
   "source": [
    "cancer_biobank = biobank_data.loc[~biobank_data[\"cancer_code\"].isna()]"
   ]
  },
  {
   "cell_type": "code",
   "execution_count": 15,
   "id": "931cdee2",
   "metadata": {},
   "outputs": [
    {
     "data": {
      "image/png": "[encoded data removed]",
      "text/plain": [
       "<Figure size 1008x432 with 1 Axes>"
      ]
     },
     "metadata": {},
     "output_type": "display_data"
    }
   ],
   "source": [
    "cancer_codes, counts = np.unique(cancer_biobank[\"cancer_code\"], return_counts=True)\n",
    "\n",
    "common_cancer_codes = cancer_codes[counts > 20]\n",
    "common_cancer_biobank = cancer_biobank.loc[cancer_biobank[\"cancer_code\"].isin(common_cancer_codes)]\n",
    "\n",
    "\n",
    "fig, ax = plt.subplots(figsize=(14, 6), facecolor=\"#fffffe\")\n",
    "sns.kdeplot(data=common_cancer_biobank, x=\"cancer_dx_age_interpolated\", hue=\"cancer_code\", ax=ax, shade=True)\n",
    "add_plt_labels(ax, \"cancer_dx_age_interpolated\", \"Density\")\n",
    "fig.savefig(constants.COVER_PLOTS_GENERIC_FILE_PATH.format(\"cancer_onset_age.png\"), facecolor=\"#fffffe\")"
   ]
  },
  {
   "cell_type": "code",
   "execution_count": 16,
   "id": "interim-angola",
   "metadata": {},
   "outputs": [
    {
     "data": {
      "image/png": "[encoded data removed]",
      "text/plain": [
       "<Figure size 864x432 with 1 Axes>"
      ]
     },
     "metadata": {
      "needs_background": "light"
     },
     "output_type": "display_data"
    },
    {
     "data": {
      "image/png": "[encoded data removed]",
      "text/plain": [
       "<Figure size 864x432 with 1 Axes>"
      ]
     },
     "metadata": {
      "needs_background": "light"
     },
     "output_type": "display_data"
    }
   ],
   "source": [
    "fig, ax = plt.subplots(figsize=(12, 6))\n",
    "y = \"tobacco_smoking_current_start_age\"\n",
    "x = \"recruitment_age\"\n",
    "\n",
    "sns.kdeplot(data=biobank_data, y=y, x=x, ax=ax, fill=True)\n",
    "add_plt_labels(ax, x, y)\n",
    "\n",
    "y, x = \"diabetes_dx_age\", \"recruitment_age\"\n",
    "fig, ax = plt.subplots(figsize=(12, 6))\n",
    "sns.kdeplot(data=biobank_data, x=x, y=y, hue=\"sex\", ax=ax, fill=True)\n",
    "add_plt_labels(ax, x, y)"
   ]
  },
  {
   "cell_type": "code",
   "execution_count": 17,
   "id": "statewide-quantity",
   "metadata": {},
   "outputs": [
    {
     "data": {
      "text/plain": [
       "<matplotlib.axes._subplots.AxesSubplot at 0x1b096422ac8>"
      ]
     },
     "execution_count": 17,
     "metadata": {},
     "output_type": "execute_result"
    },
    {
     "data": {
      "image/png": "[encoded data removed]",
      "text/plain": [
       "<Figure size 864x432 with 1 Axes>"
      ]
     },
     "metadata": {
      "needs_background": "light"
     },
     "output_type": "display_data"
    }
   ],
   "source": [
    "fig, ax = plt.subplots(figsize=(12, 6))\n",
    "sns.histplot(data=biobank_data, x=\"tobacco_smoking_current_start_age\", hue=\"sex\",  ax=ax)"
   ]
  },
  {
   "cell_type": "code",
   "execution_count": 18,
   "id": "c5b0a805",
   "metadata": {},
   "outputs": [
    {
     "data": {
      "image/png": "[encoded data removed]",
      "text/plain": [
       "<Figure size 864x432 with 1 Axes>"
      ]
     },
     "metadata": {
      "needs_background": "light"
     },
     "output_type": "display_data"
    },
    {
     "data": {
      "image/png": "[encoded data removed]",
      "text/plain": [
       "<Figure size 864x432 with 1 Axes>"
      ]
     },
     "metadata": {
      "needs_background": "light"
     },
     "output_type": "display_data"
    }
   ],
   "source": [
    "x, hue = \"birth_year\", \"sex\"\n",
    "fig, ax = plt.subplots(figsize=(12, 6))\n",
    "sns.histplot(data=biobank_data, x=x, hue=hue, ax=ax)\n",
    "add_plt_labels(ax, x, y=\"Count\")\n",
    "\n",
    "x = \"recruitment_age\"\n",
    "fig, ax = plt.subplots(figsize=(12, 6))\n",
    "sns.histplot(data=biobank_data, x=x, hue=hue, ax=ax)\n",
    "add_plt_labels(ax, x, y=\"Count\")"
   ]
  },
  {
   "cell_type": "code",
   "execution_count": null,
   "id": "documented-mistake",
   "metadata": {},
   "outputs": [],
   "source": []
  }
 ],
 "metadata": {
  "kernelspec": {
   "display_name": "Python 3",
   "language": "python",
   "name": "python3"
  },
  "language_info": {
   "codemirror_mode": {
    "name": "ipython",
    "version": 3
   },
   "file_extension": ".py",
   "mimetype": "text/x-python",
   "name": "python",
   "nbconvert_exporter": "python",
   "pygments_lexer": "ipython3",
   "version": "3.7.4"
  }
 },
 "nbformat": 4,
 "nbformat_minor": 5
}
