{
 "cells": [
  {
   "cell_type": "code",
   "execution_count": 1,
   "id": "competitive-saint",
   "metadata": {},
   "outputs": [],
   "source": [
    "%load_ext autoreload\n",
    "%autoreload 2\n",
    "\n",
    "import os\n",
    "\n",
    "import numpy as np\n",
    "import pandas as pd\n",
    "import matplotlib.pyplot as plt\n",
    "import seaborn as sns\n",
    "\n",
    "from bs4 import BeautifulSoup as bsoup\n",
    "from thefuzz import fuzz\n",
    "\n",
    "from typing import Any, List, Dict, Tuple, Optional\n",
    "from tqdm.notebook import tqdm\n",
    "from tqdm import tqdm\n",
    "\n",
    "import constants, index_tools, data_tools\n",
    "\n",
    "from utilities import *"
   ]
  },
  {
   "cell_type": "code",
   "execution_count": 2,
   "id": "fbf0a272",
   "metadata": {},
   "outputs": [],
   "source": [
    "DEV_MODE = True\n",
    "\n",
    "UK_BIOBANK_DATA_CSV_PATH = constants.UK_BIOBANK_DEV_DATA_CSV if DEV_MODE else constants.UK_BIOBANK_DATA_CSV"
   ]
  },
  {
   "cell_type": "markdown",
   "id": "7fff548e",
   "metadata": {},
   "source": [
    "# Data Index"
   ]
  },
  {
   "cell_type": "code",
   "execution_count": 3,
   "id": "cff3d9d3",
   "metadata": {},
   "outputs": [],
   "source": [
    "biobank_index_full = index_tools.load_index()"
   ]
  },
  {
   "cell_type": "code",
   "execution_count": 4,
   "id": "79fc8e26",
   "metadata": {},
   "outputs": [],
   "source": [
    "biobank_index_full = index_tools.add_udi_names_to_index(biobank_index_full)\n",
    "udi_map = index_tools.UDIMap(biobank_index_full)"
   ]
  },
  {
   "cell_type": "markdown",
   "id": "80b89557",
   "metadata": {},
   "source": [
    "# Load BioBank Data"
   ]
  },
  {
   "cell_type": "code",
   "execution_count": 10,
   "id": "82c36c20",
   "metadata": {},
   "outputs": [
    {
     "name": "stdout",
     "output_type": "stream",
     "text": [
      "UK BioBank Data Loaded.\n",
      "Size: 9999 rows x 3973 columns\n"
     ]
    },
    {
     "data": {
      "text/html": [
       "<div>\n",
       "<style scoped>\n",
       "    .dataframe tbody tr th:only-of-type {\n",
       "        vertical-align: middle;\n",
       "    }\n",
       "\n",
       "    .dataframe tbody tr th {\n",
       "        vertical-align: top;\n",
       "    }\n",
       "\n",
       "    .dataframe thead th {\n",
       "        text-align: right;\n",
       "    }\n",
       "</style>\n",
       "<table border=\"1\" class=\"dataframe\">\n",
       "  <thead>\n",
       "    <tr style=\"text-align: right;\">\n",
       "      <th></th>\n",
       "      <th>eid</th>\n",
       "      <th>spirometry_method</th>\n",
       "      <th>spirometry_method_1.0</th>\n",
       "      <th>spirometry_method_2.0</th>\n",
       "      <th>sex</th>\n",
       "      <th>birth_year</th>\n",
       "      <th>blood_sample_attempted</th>\n",
       "      <th>blood_sample_attempted_1.0</th>\n",
       "      <th>blood_sample_attempted_2.0</th>\n",
       "      <th>bp_device</th>\n",
       "      <th>...</th>\n",
       "      <th>important_unlabeled_32</th>\n",
       "      <th>important_unlabeled_33</th>\n",
       "      <th>patient_classification_on_admission</th>\n",
       "      <th>patient_classification_on_admission_0.1</th>\n",
       "      <th>patient_classification_on_admission_0.2</th>\n",
       "      <th>patient_classification_on_admission_0.3</th>\n",
       "      <th>patient_classification_on_admission_0.4</th>\n",
       "      <th>patient_classification_on_admission_0.5</th>\n",
       "      <th>patient_classification_on_admission_0.6</th>\n",
       "      <th>important_unlabeled_34</th>\n",
       "    </tr>\n",
       "  </thead>\n",
       "  <tbody>\n",
       "    <tr>\n",
       "      <th>0</th>\n",
       "      <td>1000015</td>\n",
       "      <td>0.0</td>\n",
       "      <td>NaN</td>\n",
       "      <td>NaN</td>\n",
       "      <td>1</td>\n",
       "      <td>1963</td>\n",
       "      <td>1.0</td>\n",
       "      <td>NaN</td>\n",
       "      <td>NaN</td>\n",
       "      <td>157.0</td>\n",
       "      <td>...</td>\n",
       "      <td>2.0</td>\n",
       "      <td>3.0</td>\n",
       "      <td>2000.0</td>\n",
       "      <td>1000.0</td>\n",
       "      <td>NaN</td>\n",
       "      <td>NaN</td>\n",
       "      <td>NaN</td>\n",
       "      <td>NaN</td>\n",
       "      <td>NaN</td>\n",
       "      <td>5.0</td>\n",
       "    </tr>\n",
       "    <tr>\n",
       "      <th>1</th>\n",
       "      <td>1000027</td>\n",
       "      <td>0.0</td>\n",
       "      <td>NaN</td>\n",
       "      <td>NaN</td>\n",
       "      <td>0</td>\n",
       "      <td>1956</td>\n",
       "      <td>1.0</td>\n",
       "      <td>NaN</td>\n",
       "      <td>NaN</td>\n",
       "      <td>3157.0</td>\n",
       "      <td>...</td>\n",
       "      <td>NaN</td>\n",
       "      <td>1.0</td>\n",
       "      <td>NaN</td>\n",
       "      <td>NaN</td>\n",
       "      <td>NaN</td>\n",
       "      <td>NaN</td>\n",
       "      <td>NaN</td>\n",
       "      <td>NaN</td>\n",
       "      <td>NaN</td>\n",
       "      <td>1.0</td>\n",
       "    </tr>\n",
       "    <tr>\n",
       "      <th>2</th>\n",
       "      <td>1000039</td>\n",
       "      <td>NaN</td>\n",
       "      <td>NaN</td>\n",
       "      <td>NaN</td>\n",
       "      <td>0</td>\n",
       "      <td>1948</td>\n",
       "      <td>1.0</td>\n",
       "      <td>NaN</td>\n",
       "      <td>NaN</td>\n",
       "      <td>1048.0</td>\n",
       "      <td>...</td>\n",
       "      <td>13.0</td>\n",
       "      <td>15.0</td>\n",
       "      <td>2000.0</td>\n",
       "      <td>1000.0</td>\n",
       "      <td>NaN</td>\n",
       "      <td>NaN</td>\n",
       "      <td>NaN</td>\n",
       "      <td>NaN</td>\n",
       "      <td>NaN</td>\n",
       "      <td>19.0</td>\n",
       "    </tr>\n",
       "    <tr>\n",
       "      <th>3</th>\n",
       "      <td>1000040</td>\n",
       "      <td>0.0</td>\n",
       "      <td>NaN</td>\n",
       "      <td>NaN</td>\n",
       "      <td>1</td>\n",
       "      <td>1947</td>\n",
       "      <td>1.0</td>\n",
       "      <td>NaN</td>\n",
       "      <td>NaN</td>\n",
       "      <td>1044.0</td>\n",
       "      <td>...</td>\n",
       "      <td>NaN</td>\n",
       "      <td>NaN</td>\n",
       "      <td>NaN</td>\n",
       "      <td>NaN</td>\n",
       "      <td>NaN</td>\n",
       "      <td>NaN</td>\n",
       "      <td>NaN</td>\n",
       "      <td>NaN</td>\n",
       "      <td>NaN</td>\n",
       "      <td>6.0</td>\n",
       "    </tr>\n",
       "    <tr>\n",
       "      <th>4</th>\n",
       "      <td>1000053</td>\n",
       "      <td>0.0</td>\n",
       "      <td>NaN</td>\n",
       "      <td>0.0</td>\n",
       "      <td>0</td>\n",
       "      <td>1962</td>\n",
       "      <td>1.0</td>\n",
       "      <td>NaN</td>\n",
       "      <td>1.0</td>\n",
       "      <td>162.0</td>\n",
       "      <td>...</td>\n",
       "      <td>NaN</td>\n",
       "      <td>NaN</td>\n",
       "      <td>NaN</td>\n",
       "      <td>NaN</td>\n",
       "      <td>NaN</td>\n",
       "      <td>NaN</td>\n",
       "      <td>NaN</td>\n",
       "      <td>NaN</td>\n",
       "      <td>NaN</td>\n",
       "      <td>NaN</td>\n",
       "    </tr>\n",
       "  </tbody>\n",
       "</table>\n",
       "<p>5 rows × 3973 columns</p>\n",
       "</div>"
      ],
      "text/plain": [
       "       eid  spirometry_method  spirometry_method_1.0  spirometry_method_2.0  \\\n",
       "0  1000015                0.0                    NaN                    NaN   \n",
       "1  1000027                0.0                    NaN                    NaN   \n",
       "2  1000039                NaN                    NaN                    NaN   \n",
       "3  1000040                0.0                    NaN                    NaN   \n",
       "4  1000053                0.0                    NaN                    0.0   \n",
       "\n",
       "   sex  birth_year  blood_sample_attempted  blood_sample_attempted_1.0  \\\n",
       "0    1        1963                     1.0                         NaN   \n",
       "1    0        1956                     1.0                         NaN   \n",
       "2    0        1948                     1.0                         NaN   \n",
       "3    1        1947                     1.0                         NaN   \n",
       "4    0        1962                     1.0                         NaN   \n",
       "\n",
       "   blood_sample_attempted_2.0  bp_device  ...  important_unlabeled_32  \\\n",
       "0                         NaN      157.0  ...                     2.0   \n",
       "1                         NaN     3157.0  ...                     NaN   \n",
       "2                         NaN     1048.0  ...                    13.0   \n",
       "3                         NaN     1044.0  ...                     NaN   \n",
       "4                         1.0      162.0  ...                     NaN   \n",
       "\n",
       "   important_unlabeled_33  patient_classification_on_admission  \\\n",
       "0                     3.0                               2000.0   \n",
       "1                     1.0                                  NaN   \n",
       "2                    15.0                               2000.0   \n",
       "3                     NaN                                  NaN   \n",
       "4                     NaN                                  NaN   \n",
       "\n",
       "   patient_classification_on_admission_0.1  \\\n",
       "0                                   1000.0   \n",
       "1                                      NaN   \n",
       "2                                   1000.0   \n",
       "3                                      NaN   \n",
       "4                                      NaN   \n",
       "\n",
       "   patient_classification_on_admission_0.2  \\\n",
       "0                                      NaN   \n",
       "1                                      NaN   \n",
       "2                                      NaN   \n",
       "3                                      NaN   \n",
       "4                                      NaN   \n",
       "\n",
       "   patient_classification_on_admission_0.3  \\\n",
       "0                                      NaN   \n",
       "1                                      NaN   \n",
       "2                                      NaN   \n",
       "3                                      NaN   \n",
       "4                                      NaN   \n",
       "\n",
       "   patient_classification_on_admission_0.4  \\\n",
       "0                                      NaN   \n",
       "1                                      NaN   \n",
       "2                                      NaN   \n",
       "3                                      NaN   \n",
       "4                                      NaN   \n",
       "\n",
       "   patient_classification_on_admission_0.5  \\\n",
       "0                                      NaN   \n",
       "1                                      NaN   \n",
       "2                                      NaN   \n",
       "3                                      NaN   \n",
       "4                                      NaN   \n",
       "\n",
       "   patient_classification_on_admission_0.6 important_unlabeled_34  \n",
       "0                                      NaN                    5.0  \n",
       "1                                      NaN                    1.0  \n",
       "2                                      NaN                   19.0  \n",
       "3                                      NaN                    6.0  \n",
       "4                                      NaN                    NaN  \n",
       "\n",
       "[5 rows x 3973 columns]"
      ]
     },
     "metadata": {},
     "output_type": "display_data"
    }
   ],
   "source": [
    "biobank_data_full = data_tools.load_biobank_data(UK_BIOBANK_DATA_CSV_PATH, udi_map)\n",
    "biobank_index_full = index_tools.add_biobank_info_to_index(biobank_index_full, biobank_data_full)\n",
    "display(biobank_data_full.head())"
   ]
  },
  {
   "cell_type": "markdown",
   "id": "4f6940a3",
   "metadata": {},
   "source": [
    "# Clean + Reduce feature set"
   ]
  },
  {
   "cell_type": "code",
   "execution_count": 15,
   "id": "f11c08f6",
   "metadata": {},
   "outputs": [],
   "source": [
    "biobank_data = data_tools.clean_biobank_data(biobank_data_full)\n",
    "\n",
    "reduced_feature_set = data_tools.create_reduced_feature_set(biobank_data_full)\n",
    "\n",
    "\n",
    "biobank_index = biobank_index_full.loc[biobank_index_full[\"name\"].isin(reduced_feature_set)].reset_index()\n",
    "biobank_data = biobank_data_full[reduced_feature_set]"
   ]
  },
  {
   "cell_type": "code",
   "execution_count": 16,
   "id": "f98b26eb",
   "metadata": {},
   "outputs": [
    {
     "data": {
      "text/plain": [
       "(9999, 542)"
      ]
     },
     "execution_count": 16,
     "metadata": {},
     "output_type": "execute_result"
    }
   ],
   "source": [
    "biobank_data.shape"
   ]
  },
  {
   "cell_type": "code",
   "execution_count": 17,
   "id": "c6a4b32c",
   "metadata": {},
   "outputs": [
    {
     "data": {
      "text/html": [
       "<div>\n",
       "<style scoped>\n",
       "    .dataframe tbody tr th:only-of-type {\n",
       "        vertical-align: middle;\n",
       "    }\n",
       "\n",
       "    .dataframe tbody tr th {\n",
       "        vertical-align: top;\n",
       "    }\n",
       "\n",
       "    .dataframe thead th {\n",
       "        text-align: right;\n",
       "    }\n",
       "</style>\n",
       "<table border=\"1\" class=\"dataframe\">\n",
       "  <thead>\n",
       "    <tr style=\"text-align: right;\">\n",
       "      <th></th>\n",
       "      <th>index</th>\n",
       "      <th>column</th>\n",
       "      <th>udi</th>\n",
       "      <th>count</th>\n",
       "      <th>type</th>\n",
       "      <th>description</th>\n",
       "      <th>data_code</th>\n",
       "      <th>data_n_members</th>\n",
       "      <th>data_type</th>\n",
       "      <th>data_structure</th>\n",
       "      <th>name</th>\n",
       "      <th>counts</th>\n",
       "      <th>frequency</th>\n",
       "    </tr>\n",
       "  </thead>\n",
       "  <tbody>\n",
       "    <tr>\n",
       "      <th>0</th>\n",
       "      <td>0</td>\n",
       "      <td>0</td>\n",
       "      <td>eid</td>\n",
       "      <td>502543</td>\n",
       "      <td>Sequence</td>\n",
       "      <td>Encoded anonymised participant ID</td>\n",
       "      <td>None</td>\n",
       "      <td>None</td>\n",
       "      <td>None</td>\n",
       "      <td>None</td>\n",
       "      <td>eid</td>\n",
       "      <td>9999</td>\n",
       "      <td>1.000000</td>\n",
       "    </tr>\n",
       "    <tr>\n",
       "      <th>1</th>\n",
       "      <td>1</td>\n",
       "      <td>1</td>\n",
       "      <td>23-0.0</td>\n",
       "      <td>456606</td>\n",
       "      <td>Categorical (single)</td>\n",
       "      <td>Spirometry method</td>\n",
       "      <td>100270</td>\n",
       "      <td>5</td>\n",
       "      <td>integer-valued</td>\n",
       "      <td>simple_list</td>\n",
       "      <td>spirometry_method</td>\n",
       "      <td>9056</td>\n",
       "      <td>0.905691</td>\n",
       "    </tr>\n",
       "    <tr>\n",
       "      <th>2</th>\n",
       "      <td>4</td>\n",
       "      <td>4</td>\n",
       "      <td>31-0.0</td>\n",
       "      <td>502543</td>\n",
       "      <td>Categorical (single)</td>\n",
       "      <td>Sex</td>\n",
       "      <td>9</td>\n",
       "      <td>2</td>\n",
       "      <td>integer-valued</td>\n",
       "      <td>simple_list</td>\n",
       "      <td>sex</td>\n",
       "      <td>9999</td>\n",
       "      <td>1.000000</td>\n",
       "    </tr>\n",
       "    <tr>\n",
       "      <th>3</th>\n",
       "      <td>5</td>\n",
       "      <td>5</td>\n",
       "      <td>34-0.0</td>\n",
       "      <td>502543</td>\n",
       "      <td>Integer</td>\n",
       "      <td>Year of birth</td>\n",
       "      <td>None</td>\n",
       "      <td>None</td>\n",
       "      <td>None</td>\n",
       "      <td>None</td>\n",
       "      <td>birth_year</td>\n",
       "      <td>9999</td>\n",
       "      <td>1.000000</td>\n",
       "    </tr>\n",
       "    <tr>\n",
       "      <th>4</th>\n",
       "      <td>6</td>\n",
       "      <td>6</td>\n",
       "      <td>35-0.0</td>\n",
       "      <td>501328</td>\n",
       "      <td>Categorical (single)</td>\n",
       "      <td>Was blood sampling attempted</td>\n",
       "      <td>7</td>\n",
       "      <td>2</td>\n",
       "      <td>integer-valued</td>\n",
       "      <td>simple_list</td>\n",
       "      <td>blood_sample_attempted</td>\n",
       "      <td>9978</td>\n",
       "      <td>0.997900</td>\n",
       "    </tr>\n",
       "    <tr>\n",
       "      <th>...</th>\n",
       "      <td>...</td>\n",
       "      <td>...</td>\n",
       "      <td>...</td>\n",
       "      <td>...</td>\n",
       "      <td>...</td>\n",
       "      <td>...</td>\n",
       "      <td>...</td>\n",
       "      <td>...</td>\n",
       "      <td>...</td>\n",
       "      <td>...</td>\n",
       "      <td>...</td>\n",
       "      <td>...</td>\n",
       "      <td>...</td>\n",
       "    </tr>\n",
       "    <tr>\n",
       "      <th>537</th>\n",
       "      <td>3962</td>\n",
       "      <td>3962</td>\n",
       "      <td>41235-0.0</td>\n",
       "      <td>330471</td>\n",
       "      <td>Integer</td>\n",
       "      <td>Spells in hospital</td>\n",
       "      <td>None</td>\n",
       "      <td>None</td>\n",
       "      <td>None</td>\n",
       "      <td>None</td>\n",
       "      <td>hospital_spells</td>\n",
       "      <td>6525</td>\n",
       "      <td>0.652565</td>\n",
       "    </tr>\n",
       "    <tr>\n",
       "      <th>538</th>\n",
       "      <td>3963</td>\n",
       "      <td>3963</td>\n",
       "      <td>41240-0.0</td>\n",
       "      <td>277019</td>\n",
       "      <td>Integer</td>\n",
       "      <td>Episodes containing \"Patient classification on...</td>\n",
       "      <td>None</td>\n",
       "      <td>None</td>\n",
       "      <td>None</td>\n",
       "      <td>None</td>\n",
       "      <td>important_unlabeled_32</td>\n",
       "      <td>5456</td>\n",
       "      <td>0.545655</td>\n",
       "    </tr>\n",
       "    <tr>\n",
       "      <th>539</th>\n",
       "      <td>3964</td>\n",
       "      <td>3964</td>\n",
       "      <td>41241-0.0</td>\n",
       "      <td>305421</td>\n",
       "      <td>Integer</td>\n",
       "      <td>Episodes containing \"Intended management of pa...</td>\n",
       "      <td>None</td>\n",
       "      <td>None</td>\n",
       "      <td>None</td>\n",
       "      <td>None</td>\n",
       "      <td>important_unlabeled_33</td>\n",
       "      <td>6028</td>\n",
       "      <td>0.602860</td>\n",
       "    </tr>\n",
       "    <tr>\n",
       "      <th>540</th>\n",
       "      <td>3965</td>\n",
       "      <td>3965</td>\n",
       "      <td>41247-0.0</td>\n",
       "      <td>277019</td>\n",
       "      <td>Categorical (multiple)</td>\n",
       "      <td>Patient classification on admission (recoded)</td>\n",
       "      <td>266</td>\n",
       "      <td>13</td>\n",
       "      <td>integer-valued</td>\n",
       "      <td>hierarchical_tree</td>\n",
       "      <td>patient_classification_on_admission</td>\n",
       "      <td>5456</td>\n",
       "      <td>0.545655</td>\n",
       "    </tr>\n",
       "    <tr>\n",
       "      <th>541</th>\n",
       "      <td>3972</td>\n",
       "      <td>3972</td>\n",
       "      <td>41252-0.0</td>\n",
       "      <td>395885</td>\n",
       "      <td>Integer</td>\n",
       "      <td>Episodes containing \"Inpatient record format\" ...</td>\n",
       "      <td>None</td>\n",
       "      <td>None</td>\n",
       "      <td>None</td>\n",
       "      <td>None</td>\n",
       "      <td>important_unlabeled_34</td>\n",
       "      <td>7865</td>\n",
       "      <td>0.786579</td>\n",
       "    </tr>\n",
       "  </tbody>\n",
       "</table>\n",
       "<p>542 rows × 13 columns</p>\n",
       "</div>"
      ],
      "text/plain": [
       "     index  column        udi   count                    type  \\\n",
       "0        0       0        eid  502543                Sequence   \n",
       "1        1       1     23-0.0  456606    Categorical (single)   \n",
       "2        4       4     31-0.0  502543    Categorical (single)   \n",
       "3        5       5     34-0.0  502543                 Integer   \n",
       "4        6       6     35-0.0  501328    Categorical (single)   \n",
       "..     ...     ...        ...     ...                     ...   \n",
       "537   3962    3962  41235-0.0  330471                 Integer   \n",
       "538   3963    3963  41240-0.0  277019                 Integer   \n",
       "539   3964    3964  41241-0.0  305421                 Integer   \n",
       "540   3965    3965  41247-0.0  277019  Categorical (multiple)   \n",
       "541   3972    3972  41252-0.0  395885                 Integer   \n",
       "\n",
       "                                           description data_code  \\\n",
       "0                    Encoded anonymised participant ID      None   \n",
       "1                                    Spirometry method    100270   \n",
       "2                                                  Sex         9   \n",
       "3                                        Year of birth      None   \n",
       "4                         Was blood sampling attempted         7   \n",
       "..                                                 ...       ...   \n",
       "537                                 Spells in hospital      None   \n",
       "538  Episodes containing \"Patient classification on...      None   \n",
       "539  Episodes containing \"Intended management of pa...      None   \n",
       "540      Patient classification on admission (recoded)       266   \n",
       "541  Episodes containing \"Inpatient record format\" ...      None   \n",
       "\n",
       "    data_n_members       data_type     data_structure  \\\n",
       "0             None            None               None   \n",
       "1                5  integer-valued        simple_list   \n",
       "2                2  integer-valued        simple_list   \n",
       "3             None            None               None   \n",
       "4                2  integer-valued        simple_list   \n",
       "..             ...             ...                ...   \n",
       "537           None            None               None   \n",
       "538           None            None               None   \n",
       "539           None            None               None   \n",
       "540             13  integer-valued  hierarchical_tree   \n",
       "541           None            None               None   \n",
       "\n",
       "                                    name  counts  frequency  \n",
       "0                                    eid    9999   1.000000  \n",
       "1                      spirometry_method    9056   0.905691  \n",
       "2                                    sex    9999   1.000000  \n",
       "3                             birth_year    9999   1.000000  \n",
       "4                 blood_sample_attempted    9978   0.997900  \n",
       "..                                   ...     ...        ...  \n",
       "537                      hospital_spells    6525   0.652565  \n",
       "538               important_unlabeled_32    5456   0.545655  \n",
       "539               important_unlabeled_33    6028   0.602860  \n",
       "540  patient_classification_on_admission    5456   0.545655  \n",
       "541               important_unlabeled_34    7865   0.786579  \n",
       "\n",
       "[542 rows x 13 columns]"
      ]
     },
     "execution_count": 17,
     "metadata": {},
     "output_type": "execute_result"
    }
   ],
   "source": [
    "biobank_index"
   ]
  },
  {
   "cell_type": "markdown",
   "id": "ac9195cb",
   "metadata": {},
   "source": [
    "# Feature Exploration"
   ]
  },
  {
   "cell_type": "code",
   "execution_count": 18,
   "id": "12cf0e7e",
   "metadata": {},
   "outputs": [
    {
     "name": "stderr",
     "output_type": "stream",
     "text": [
      "Analyzing features: 100%|██████████| 542/542 [00:00<00:00, 5584.01 feature/s]\n"
     ]
    }
   ],
   "source": [
    "feature_data = {\"feature\": [], \"feature_samples\": [], \"n_unique\": []}\n",
    "\n",
    "for column in tqdm(biobank_data.columns, desc=\"Analyzing features\", unit=\" feature\"):\n",
    "    unique_features = biobank_data[column].unique()\n",
    "    feature_data[\"feature_samples\"].append(np.random.choice(unique_features, min(5, len(unique_features))))\n",
    "    feature_data[\"feature\"].append(column)\n",
    "    feature_data[\"n_unique\"].append(len(unique_features))\n",
    "    \n",
    "feature_data = pd.DataFrame(feature_data)"
   ]
  },
  {
   "cell_type": "code",
   "execution_count": 19,
   "id": "eac4fea3",
   "metadata": {},
   "outputs": [],
   "source": [
    "UK_BIOBANK_FEATURE_VALUE_REMAPPING = {\n",
    "    \"sex\": [\"female\", \"male\"]\n",
    "}"
   ]
  },
  {
   "cell_type": "markdown",
   "id": "c49545b1",
   "metadata": {},
   "source": [
    "# Feature Index EDA"
   ]
  },
  {
   "cell_type": "code",
   "execution_count": 154,
   "id": "708c3b0d",
   "metadata": {},
   "outputs": [
    {
     "data": {
      "image/png": "[encoded data removed]",
      "text/plain": [
       "<Figure size 1008x432 with 1 Axes>"
      ]
     },
     "metadata": {},
     "output_type": "display_data"
    }
   ],
   "source": [
    "fig, ax = plt.subplots(figsize=(14, 6), facecolor=\"#fefef0\")\n",
    "sns.histplot(biobank_index_full[\"frequency\"], ax=ax)\n",
    "ax.set_yscale(\"log\")\n",
    "add_plt_labels(ax, \"Data Frequency\", \"Count\", \"Feature Frequency Distributions\")\n",
    "plt.show()\n",
    "fig.tight_layout()\n",
    "fig.savefig(constants.COVER_PLOTS_GENERIC_FILE_PATH.format(\"feature_frequency_distribution.png\"), facecolor=\"#fefef0\")"
   ]
  },
  {
   "cell_type": "markdown",
   "id": "0b4de579",
   "metadata": {},
   "source": [
    "# actual EDA"
   ]
  },
  {
   "cell_type": "code",
   "execution_count": 150,
   "id": "05b8db56",
   "metadata": {},
   "outputs": [],
   "source": [
    "cancer_biobank = biobank_data.loc[~biobank_data[\"cancer_code\"].isna()]"
   ]
  },
  {
   "cell_type": "code",
   "execution_count": 151,
   "id": "2b467fa6",
   "metadata": {},
   "outputs": [
    {
     "data": {
      "image/png": "[encoded data removed]",
      "text/plain": [
       "<Figure size 1008x432 with 1 Axes>"
      ]
     },
     "metadata": {},
     "output_type": "display_data"
    }
   ],
   "source": [
    "cancer_codes, counts = np.unique(cancer_biobank[\"cancer_code\"], return_counts=True)\n",
    "\n",
    "common_cancer_codes = cancer_codes[counts > 20]\n",
    "common_cancer_biobank = cancer_biobank.loc[cancer_biobank[\"cancer_code\"].isin(common_cancer_codes)]\n",
    "\n",
    "\n",
    "fig, ax = plt.subplots(figsize=(14, 6), facecolor=\"#fefefe\")\n",
    "sns.kdeplot(data=common_cancer_biobank, x=\"cancer_dx_age_interpolated\", hue=\"cancer_code\", ax=ax, shade=True)\n",
    "add_plt_labels(ax, \"cancer_dx_age_interpolated\", \"Density\")\n",
    "fig.savefig(constants.COVER_PLOTS_GENERIC_FILE_PATH.format(\"cancer_onset_age.png\"), facecolor=\"#fefefe\")"
   ]
  },
  {
   "cell_type": "code",
   "execution_count": 35,
   "id": "interim-angola",
   "metadata": {},
   "outputs": [
    {
     "data": {
      "image/png": "[encoded data removed]",
      "text/plain": [
       "<Figure size 864x432 with 1 Axes>"
      ]
     },
     "metadata": {
      "needs_background": "light"
     },
     "output_type": "display_data"
    },
    {
     "data": {
      "image/png": "[encoded data removed]",
      "text/plain": [
       "<Figure size 864x432 with 1 Axes>"
      ]
     },
     "metadata": {
      "needs_background": "light"
     },
     "output_type": "display_data"
    }
   ],
   "source": [
    "fig, ax = plt.subplots(figsize=(12, 6))\n",
    "y = \"tobacco_smoking_current_start_age\"\n",
    "x = \"recruitment_age\"\n",
    "\n",
    "sns.kdeplot(data=biobank_data, y=y, x=x, ax=ax, fill=True)\n",
    "add_plt_labels(ax, x, y)\n",
    "\n",
    "y, x = \"diabetes_dx_age\", \"recruitment_age\"\n",
    "fig, ax = plt.subplots(figsize=(12, 6))\n",
    "sns.kdeplot(data=biobank_data, x=x, y=y, hue=\"sex\", ax=ax, fill=True)\n",
    "add_plt_labels(ax, x, y)"
   ]
  },
  {
   "cell_type": "code",
   "execution_count": 36,
   "id": "statewide-quantity",
   "metadata": {},
   "outputs": [
    {
     "data": {
      "text/plain": [
       "<AxesSubplot:xlabel='tobacco_smoking_current_start_age', ylabel='Count'>"
      ]
     },
     "execution_count": 36,
     "metadata": {},
     "output_type": "execute_result"
    },
    {
     "data": {
      "image/png": "[encoded data removed]",
      "text/plain": [
       "<Figure size 864x432 with 1 Axes>"
      ]
     },
     "metadata": {
      "needs_background": "light"
     },
     "output_type": "display_data"
    }
   ],
   "source": [
    "fig, ax = plt.subplots(figsize=(12, 6))\n",
    "sns.histplot(data=biobank_data, x=\"tobacco_smoking_current_start_age\", hue=\"sex\",  ax=ax)"
   ]
  },
  {
   "cell_type": "code",
   "execution_count": 37,
   "id": "c5b0a805",
   "metadata": {},
   "outputs": [
    {
     "data": {
      "image/png": "[encoded data removed]",
      "text/plain": [
       "<Figure size 864x432 with 1 Axes>"
      ]
     },
     "metadata": {
      "needs_background": "light"
     },
     "output_type": "display_data"
    },
    {
     "data": {
      "image/png": "[encoded data removed]",
      "text/plain": [
       "<Figure size 864x432 with 1 Axes>"
      ]
     },
     "metadata": {
      "needs_background": "light"
     },
     "output_type": "display_data"
    }
   ],
   "source": [
    "x, hue = \"birth_year\", \"sex\"\n",
    "fig, ax = plt.subplots(figsize=(12, 6))\n",
    "sns.histplot(data=biobank_data, x=x, hue=hue, ax=ax)\n",
    "add_plt_labels(ax, x, y=\"Count\")\n",
    "\n",
    "x = \"recruitment_age\"\n",
    "fig, ax = plt.subplots(figsize=(12, 6))\n",
    "sns.histplot(data=biobank_data, x=x, hue=hue, ax=ax)\n",
    "add_plt_labels(ax, x, y=\"Count\")"
   ]
  },
  {
   "cell_type": "code",
   "execution_count": null,
   "id": "documented-mistake",
   "metadata": {},
   "outputs": [],
   "source": []
  }
 ],
 "metadata": {
  "kernelspec": {
   "display_name": "Python 3",
   "language": "python",
   "name": "python3"
  },
  "language_info": {
   "codemirror_mode": {
    "name": "ipython",
    "version": 3
   },
   "file_extension": ".py",
   "mimetype": "text/x-python",
   "name": "python",
   "nbconvert_exporter": "python",
   "pygments_lexer": "ipython3",
   "version": "3.9.12"
  }
 },
 "nbformat": 4,
 "nbformat_minor": 5
}
