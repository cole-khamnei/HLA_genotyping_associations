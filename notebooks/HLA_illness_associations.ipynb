{
 "cells": [
  {
   "cell_type": "code",
   "execution_count": 1,
   "id": "4d005ded",
   "metadata": {},
   "outputs": [],
   "source": [
    "%load_ext autoreload\n",
    "%autoreload 2\n",
    "\n",
    "import os\n",
    "import sys\n",
    "HLA_associations_path = os.path.abspath(\"../\")\n",
    "sys.path.append(HLA_associations_path)\n",
    "\n",
    "import numpy as np\n",
    "import pandas as pd\n",
    "import matplotlib.pyplot as plt\n",
    "import seaborn as sns\n",
    "from tqdm.notebook import tqdm\n",
    "\n",
    "import constants, index_tools, data_tools, medical_code_tools\n",
    "from utilities import *"
   ]
  },
  {
   "cell_type": "code",
   "execution_count": 2,
   "id": "8f23c67d",
   "metadata": {},
   "outputs": [],
   "source": [
    "sns.set_palette(\"tab10\")\n",
    "plt.rcParams.update({'figure.max_open_warning': 0})"
   ]
  },
  {
   "cell_type": "code",
   "execution_count": 3,
   "id": "polyphonic-mining",
   "metadata": {},
   "outputs": [],
   "source": [
    "loaded = False"
   ]
  },
  {
   "cell_type": "markdown",
   "id": "4e39ef3b",
   "metadata": {},
   "source": [
    "# Load BioBank Components"
   ]
  },
  {
   "cell_type": "code",
   "execution_count": null,
   "id": "f3db4b3c",
   "metadata": {},
   "outputs": [
    {
     "name": "stdout",
     "output_type": "stream",
     "text": [
      "Importing BioBank Index and Data:\n",
      "Missing 0 biobank index names\n",
      "Reduced feature set has 369 features.\n",
      "UK BioBank Data Loaded.\n",
      "Size: 502536 rows x 369 columns\n",
      "Elapsed time: 231.2628 seconds\n"
     ]
    },
    {
     "data": {
      "application/vnd.jupyter.widget-view+json": {
       "model_id": "a2eafa0a6de143ab8e6f49773226a592",
       "version_major": 2,
       "version_minor": 0
      },
      "text/plain": [
       "Mapping Medical Codes:   0%|          | 0/354 [00:00<?, ? feature/s]"
      ]
     },
     "metadata": {},
     "output_type": "display_data"
    }
   ],
   "source": [
    "DEV_MODE = False\n",
    "SIGNIFIER = \"\"\n",
    "\n",
    "if not loaded:\n",
    "    (biobank_data_no_HLA_alleles, biobank_index,\n",
    "     med_code_mapping) = data_tools.load_all_biobank_components(DEV_MODE, signifier=SIGNIFIER)\n",
    "    loaded = True\n",
    "    HLA_alleles = data_tools.load_HLA_data()\n",
    "    biobank_data = biobank_data_no_HLA_alleles.merge(HLA_alleles, how=\"left\", on=\"eid\")"
   ]
  },
  {
   "cell_type": "markdown",
   "id": "80f41f96",
   "metadata": {},
   "source": [
    "# Constants"
   ]
  },
  {
   "cell_type": "code",
   "execution_count": null,
   "id": "52439e45",
   "metadata": {},
   "outputs": [],
   "source": []
  }
 ],
 "metadata": {
  "kernelspec": {
   "display_name": "Python 3",
   "language": "python",
   "name": "python3"
  },
  "language_info": {
   "codemirror_mode": {
    "name": "ipython",
    "version": 3
   },
   "file_extension": ".py",
   "mimetype": "text/x-python",
   "name": "python",
   "nbconvert_exporter": "python",
   "pygments_lexer": "ipython3",
   "version": "3.9.12"
  }
 },
 "nbformat": 4,
 "nbformat_minor": 5
}
