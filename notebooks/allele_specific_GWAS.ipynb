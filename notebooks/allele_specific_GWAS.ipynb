{
 "cells": [
  {
   "cell_type": "code",
   "execution_count": 1,
   "id": "4d005ded",
   "metadata": {},
   "outputs": [],
   "source": [
    "%load_ext autoreload\n",
    "%autoreload 2\n",
    "\n",
    "import os\n",
    "import sys\n",
    "HLA_associations_path = os.path.abspath(\"../\")\n",
    "sys.path.append(HLA_associations_path)\n",
    "\n",
    "import numpy as np\n",
    "import pandas as pd\n",
    "import scipy.stats as stats\n",
    "\n",
    "import matplotlib.pyplot as plt\n",
    "import seaborn as sns\n",
    "from tqdm.notebook import tqdm\n",
    "\n",
    "import constants, index_tools, data_tools, medical_code_tools\n",
    "from utilities import *\n",
    "from analysis import *\n",
    "\n",
    "import sys\n",
    "sys.path.append(constants.GRANTHAM_DISTANCE_PATH)\n",
    "\n",
    "import grantham_distance as gd"
   ]
  },
  {
   "cell_type": "code",
   "execution_count": 2,
   "id": "8f23c67d",
   "metadata": {},
   "outputs": [],
   "source": [
    "sns.set_palette(\"tab10\")\n",
    "plt.rcParams.update({'figure.max_open_warning': 0})"
   ]
  },
  {
   "cell_type": "code",
   "execution_count": 3,
   "id": "polyphonic-mining",
   "metadata": {},
   "outputs": [],
   "source": [
    "loaded = False"
   ]
  },
  {
   "cell_type": "markdown",
   "id": "4e39ef3b",
   "metadata": {},
   "source": [
    "# Load BioBank Components"
   ]
  },
  {
   "cell_type": "code",
   "execution_count": 4,
   "id": "f3db4b3c",
   "metadata": {},
   "outputs": [
    {
     "name": "stdout",
     "output_type": "stream",
     "text": [
      "Importing BioBank Index and Data:\n",
      "Missing 0 biobank index names\n",
      "Reduced feature set has 284 features.\n",
      "UK BioBank Data Loaded.\n",
      "Size: 502536 rows x 284 columns\n",
      "Elapsed time: 43.8021 seconds\n"
     ]
    },
    {
     "data": {
      "application/vnd.jupyter.widget-view+json": {
       "model_id": "b3c47721c55a4f429606ed154ff52014",
       "version_major": 2,
       "version_minor": 0
      },
      "text/plain": [
       "Mapping Medical Codes:   0%|          | 0/269 [00:00<?, ? feature/s]"
      ]
     },
     "metadata": {},
     "output_type": "display_data"
    }
   ],
   "source": [
    "DEV_MODE = False\n",
    "SIGNIFIER = \"\"\n",
    "\n",
    "if not loaded:\n",
    "    (biobank_data_no_HLA_alleles, biobank_index,\n",
    "     med_code_mapping) = data_tools.load_all_biobank_components(DEV_MODE, signifier=SIGNIFIER)\n",
    "    loaded = True\n",
    "    HLA_alleles = data_tools.load_HLA_data()\n",
    "    biobank_data = biobank_data_no_HLA_alleles.merge(HLA_alleles, how=\"left\", on=\"eid\")"
   ]
  },
  {
   "cell_type": "code",
   "execution_count": null,
   "id": "4cff6419",
   "metadata": {},
   "outputs": [],
   "source": [
    "illnesses = [\n",
    "    \"multiple sclerosis\",\n",
    "    'infectious mononucleosis / glandular fever / epstein barr virus (ebv)'\n",
    "]\n",
    "\n",
    "cancers = ['hodgkins lymphoma / hodgkins disease', \"cervical cancer\"]"
   ]
  },
  {
   "cell_type": "code",
   "execution_count": null,
   "id": "358a95f6",
   "metadata": {},
   "outputs": [],
   "source": []
  },
  {
   "cell_type": "code",
   "execution_count": 8,
   "id": "7aa02ae5",
   "metadata": {},
   "outputs": [
    {
     "data": {
      "text/plain": [
       "array(['A*01:01', 'A*02:01', 'A*02:03', 'A*02:05', 'A*02:06', 'A*02:11',\n",
       "       'A*03:01', 'A*03:02', 'A*11:01', 'A*23:01', 'A*24:02', 'A*24:03',\n",
       "       'A*24:07', 'A*25:01', 'A*26:01', 'A*26:08', 'A*29:01', 'A*29:02',\n",
       "       'A*30:01', 'A*30:02', 'A*31:01', 'A*32:01', 'A*33:01', 'A*33:03',\n",
       "       'A*34:02', 'A*66:01', 'A*68:01', 'A*68:02', 'A*74:01', 'B*07:02',\n",
       "       'B*07:05', 'B*08:01', 'B*13:02', 'B*14:01', 'B*14:02', 'B*15:01',\n",
       "       'B*15:09', 'B*15:17', 'B*15:18', 'B*18:01', 'B*27:02', 'B*27:05',\n",
       "       'B*35:01', 'B*35:02', 'B*35:03', 'B*35:05', 'B*35:08', 'B*37:01',\n",
       "       'B*38:01', 'B*39:01', 'B*39:06', 'B*40:01', 'B*40:02', 'B*40:06',\n",
       "       'B*41:02', 'B*44:02', 'B*44:03', 'B*44:04', 'B*44:05', 'B*45:01',\n",
       "       'B*47:01', 'B*49:01', 'B*50:01', 'B*51:01', 'B*52:01', 'B*53:01',\n",
       "       'B*55:01', 'B*56:01', 'B*57:01', 'B*57:03', 'B*58:01', 'C*01:02',\n",
       "       'C*02:02', 'C*03:02', 'C*03:03', 'C*03:04', 'C*04:01', 'C*05:01',\n",
       "       'C*06:02', 'C*07:01', 'C*07:02', 'C*07:04', 'C*08:02', 'C*12:02',\n",
       "       'C*12:03', 'C*14:02', 'C*15:02', 'C*15:05', 'C*16:01', 'C*16:02',\n",
       "       'C*17:01'], dtype=object)"
      ]
     },
     "execution_count": 8,
     "metadata": {},
     "output_type": "execute_result"
    }
   ],
   "source": [
    "illness = \"multiple sclerosis\"\n",
    "# illness = 'hodgkins lymphoma / hodgkins disease'\n",
    "# illness = 'nasal cavity cancer'\n",
    "# illness = \"osteoarthritis\"\n",
    "# illness = \"cervical cancer\"\n",
    "illness = 'infectious mononucleosis / glandular fever / epstein barr virus (ebv)'\n",
    "\n",
    "# feature = \"cancer_code\"\n",
    "feature = \"illness_code\"\n",
    "\n",
    "HLA_allele_columns = [\"A1\", \"A2\", \"B1\", \"B2\", \"C1\", \"C2\"]\n",
    "\n",
    "illness_values = get_illness_value(biobank_data, illness, feature)\n",
    "\n",
    "illness_alleles = biobank_data.loc[illness_values][HLA_allele_columns].values.ravel()\n",
    "illness_alleles = np.unique(illness_alleles[~pd.isnull(illness_alleles)])\n",
    "\n",
    "illness_alleles"
   ]
  },
  {
   "cell_type": "code",
   "execution_count": 9,
   "id": "f0394b24",
   "metadata": {},
   "outputs": [
    {
     "data": {
      "application/vnd.jupyter.widget-view+json": {
       "model_id": "a2e81b010a8f47a0aa34c85cee77b5aa",
       "version_major": 2,
       "version_minor": 0
      },
      "text/plain": [
       "  0%|          | 0/91 [00:00<?, ?it/s]"
      ]
     },
     "metadata": {},
     "output_type": "display_data"
    }
   ],
   "source": [
    "text = \"\"\n",
    "data = []\n",
    "for allele in tqdm(illness_alleles):\n",
    "    allele_loc_cols = [allele[0] + f\"{i}\" for i in [1, 2]]\n",
    "    all_allele_zygosity = np.sum(biobank_data[allele_loc_cols] == allele, axis=1)\n",
    "\n",
    "    odds_ratio, p_value, N, lower_bound, upper_bound = calculate_OR(illness_values, all_allele_zygosity > 1)\n",
    "    \n",
    "    data.append([allele, odds_ratio, p_value, N, lower_bound, upper_bound])\n",
    "\n",
    "    p_value_str = f\"{p_value:.2}\" if \"e\" in str(p_value) else f\"{p_value:.3f}\"\n",
    "    line = f\"{allele}: OR: {odds_ratio:.3f} p-value: {p_value_str}\"\n",
    "    line += f\" 95% CI: {lower_bound:.2f} - {upper_bound:.2f}\"\n",
    "    line += f\" N: {N:,}\"\n",
    "    line += \"\\n\" if p_value > .05 else \" ***\\n\"\n",
    "    text += line\n",
    "data = pd.DataFrame(data, columns=[\"allele\", \"odds_ratio\", \"p_value\", \"N\", \"lower_bound\", \"upper_bound\"])\n",
    "data[\"hla_loci\"] = data[\"allele\"].apply(lambda s: s[0])"
   ]
  },
  {
   "cell_type": "code",
   "execution_count": 10,
   "id": "e11e76bc",
   "metadata": {},
   "outputs": [
    {
     "data": {
      "text/html": [
       "<div>\n",
       "<style scoped>\n",
       "    .dataframe tbody tr th:only-of-type {\n",
       "        vertical-align: middle;\n",
       "    }\n",
       "\n",
       "    .dataframe tbody tr th {\n",
       "        vertical-align: top;\n",
       "    }\n",
       "\n",
       "    .dataframe thead th {\n",
       "        text-align: right;\n",
       "    }\n",
       "</style>\n",
       "<table border=\"1\" class=\"dataframe\">\n",
       "  <thead>\n",
       "    <tr style=\"text-align: right;\">\n",
       "      <th></th>\n",
       "      <th>allele</th>\n",
       "      <th>odds_ratio</th>\n",
       "      <th>p_value</th>\n",
       "      <th>N</th>\n",
       "      <th>lower_bound</th>\n",
       "      <th>upper_bound</th>\n",
       "      <th>hla_loci</th>\n",
       "    </tr>\n",
       "  </thead>\n",
       "  <tbody>\n",
       "    <tr>\n",
       "      <th>35</th>\n",
       "      <td>B*15:01</td>\n",
       "      <td>2.611960</td>\n",
       "      <td>0.030468</td>\n",
       "      <td>6</td>\n",
       "      <td>1.328599</td>\n",
       "      <td>5.134984</td>\n",
       "      <td>B</td>\n",
       "    </tr>\n",
       "    <tr>\n",
       "      <th>74</th>\n",
       "      <td>C*03:03</td>\n",
       "      <td>2.848813</td>\n",
       "      <td>0.033858</td>\n",
       "      <td>5</td>\n",
       "      <td>1.359258</td>\n",
       "      <td>5.970710</td>\n",
       "      <td>C</td>\n",
       "    </tr>\n",
       "    <tr>\n",
       "      <th>0</th>\n",
       "      <td>A*01:01</td>\n",
       "      <td>1.479608</td>\n",
       "      <td>0.042627</td>\n",
       "      <td>30</td>\n",
       "      <td>1.086822</td>\n",
       "      <td>2.014351</td>\n",
       "      <td>A</td>\n",
       "    </tr>\n",
       "  </tbody>\n",
       "</table>\n",
       "</div>"
      ],
      "text/plain": [
       "     allele  odds_ratio   p_value   N  lower_bound  upper_bound hla_loci\n",
       "35  B*15:01    2.611960  0.030468   6     1.328599     5.134984        B\n",
       "74  C*03:03    2.848813  0.033858   5     1.359258     5.970710        C\n",
       "0   A*01:01    1.479608  0.042627  30     1.086822     2.014351        A"
      ]
     },
     "execution_count": 10,
     "metadata": {},
     "output_type": "execute_result"
    }
   ],
   "source": [
    "data.query(\"p_value < .05 and N > 4\").sort_values([\"p_value\"])"
   ]
  },
  {
   "cell_type": "code",
   "execution_count": null,
   "id": "7b536bae",
   "metadata": {},
   "outputs": [],
   "source": []
  }
 ],
 "metadata": {
  "kernelspec": {
   "display_name": "Python 3 (ipykernel)",
   "language": "python",
   "name": "python3"
  },
  "language_info": {
   "codemirror_mode": {
    "name": "ipython",
    "version": 3
   },
   "file_extension": ".py",
   "mimetype": "text/x-python",
   "name": "python",
   "nbconvert_exporter": "python",
   "pygments_lexer": "ipython3",
   "version": "3.8.13"
  }
 },
 "nbformat": 4,
 "nbformat_minor": 5
}
