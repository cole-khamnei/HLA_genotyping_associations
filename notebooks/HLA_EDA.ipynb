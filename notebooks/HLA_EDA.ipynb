{
 "cells": [
  {
   "cell_type": "code",
   "execution_count": 1,
   "id": "22e482fe",
   "metadata": {},
   "outputs": [],
   "source": [
    "%load_ext autoreload\n",
    "%autoreload 2\n",
    "\n",
    "import os\n",
    "import sys\n",
    "HLA_associations_path = os.path.abspath(\"../\")\n",
    "sys.path.append(HLA_associations_path)\n",
    "\n",
    "import numpy as np\n",
    "import pandas as pd\n",
    "import matplotlib.pyplot as plt\n",
    "import seaborn as sns\n",
    "from tqdm.notebook import tqdm\n",
    "\n",
    "import constants, index_tools, data_tools, medical_code_tools\n",
    "from utilities import *\n",
    "\n",
    "import sys\n",
    "sys.path.append(constants.GRANTHAM_DISTANCE_PATH)\n",
    "\n",
    "import grantham_distance as gd"
   ]
  },
  {
   "cell_type": "code",
   "execution_count": 2,
   "id": "64d3628d",
   "metadata": {},
   "outputs": [],
   "source": [
    "sns.set_palette(\"tab10\")\n",
    "plt.rcParams.update({'figure.max_open_warning': 0})"
   ]
  },
  {
   "cell_type": "code",
   "execution_count": 3,
   "id": "30088c9d",
   "metadata": {},
   "outputs": [],
   "source": [
    "HLA_alleles = data_tools.load_HLA_data()"
   ]
  },
  {
   "cell_type": "code",
   "execution_count": 4,
   "id": "624f9f58",
   "metadata": {},
   "outputs": [
    {
     "data": {
      "text/plain": [
       "<AxesSubplot:xlabel='zygosity', ylabel='Count'>"
      ]
     },
     "execution_count": 4,
     "metadata": {},
     "output_type": "execute_result"
    },
    {
     "data": {
      "image/png": "[encoded data removed]",
      "text/plain": [
       "<Figure size 1008x432 with 1 Axes>"
      ]
     },
     "metadata": {
      "needs_background": "light"
     },
     "output_type": "display_data"
    }
   ],
   "source": [
    "fig, ax = plt.subplots(figsize=(14, 6))\n",
    "sns.histplot(HLA_alleles[\"zygosity\"], ax=ax)"
   ]
  },
  {
   "cell_type": "markdown",
   "id": "e7c1e492",
   "metadata": {},
   "source": [
    "# Add Grantham Distance"
   ]
  },
  {
   "cell_type": "code",
   "execution_count": 5,
   "id": "5f6a62eb",
   "metadata": {},
   "outputs": [],
   "source": [
    "def calculate_effective_zygosity(HLA_alleles: pd.DataFrame, class_I_allele_map, grantham_distance):\n",
    "    \"\"\" test\"\"\"\n",
    "    \n",
    "    all_alleles = list(class_I_allele_map.HLA_allele_AA_mapping.keys())\n",
    "    effectively_unique_alleles = [all_alleles[0]]\n",
    "    mapping_alleles = {}\n",
    "\n",
    "    i = 0\n",
    "    for allele in all_alleles[1:]:\n",
    "        for unique_allele in effectively_unique_alleles:\n",
    "            distance = grantham_distance.sequence_group_distance(class_I_allele_map._map([allele, unique_allele]))\n",
    "            i += 1\n",
    "            if distance == 0:\n",
    "                mapping_alleles[allele] = unique_allele\n",
    "                break\n",
    "        else:\n",
    "            effectively_unique_alleles.append(allele)\n",
    "            \n",
    "    vector_map_alleles = np.vectorize(lambda s: mapping_alleles.get(s, s))\n",
    "    effective_HLA_alleles = HLA_alleles[[\"A1\", \"A2\", \"B1\", \"B2\", \"C1\", \"C2\"]].apply(vector_map_alleles)\n",
    "    effective_zygosity = 1 * (effective_HLA_alleles[\"A1\"] == effective_HLA_alleles[\"A2\"])\n",
    "    effective_zygosity += 1 * (effective_HLA_alleles[\"B1\"] == effective_HLA_alleles[\"B2\"])\n",
    "    effective_zygosity += 1 * (effective_HLA_alleles[\"C1\"] == effective_HLA_alleles[\"C2\"])\n",
    "    \n",
    "    return effective_zygosity\n"
   ]
  },
  {
   "cell_type": "code",
   "execution_count": 6,
   "id": "1fe2a431",
   "metadata": {},
   "outputs": [],
   "source": [
    "class_I_allele_map = gd.HLAAlleleSequenceMapping(gd.HLA_CLASS_I_ALLELE_AMINO_ACID_SEQUENCES_ABS_PATH)\n",
    "grantham_distance = gd.GranthamDistance(gd.GRANTHAM_DISTANCE_MATRIX_PATH)"
   ]
  },
  {
   "cell_type": "code",
   "execution_count": 7,
   "id": "7255d9f7",
   "metadata": {},
   "outputs": [],
   "source": [
    "HLA_alleles[\"effective_zygosity\"] = calculate_effective_zygosity(HLA_alleles,class_I_allele_map, grantham_distance)"
   ]
  },
  {
   "cell_type": "code",
   "execution_count": 8,
   "id": "a90a9b2c",
   "metadata": {},
   "outputs": [
    {
     "data": {
      "text/html": [
       "<div>\n",
       "<style scoped>\n",
       "    .dataframe tbody tr th:only-of-type {\n",
       "        vertical-align: middle;\n",
       "    }\n",
       "\n",
       "    .dataframe tbody tr th {\n",
       "        vertical-align: top;\n",
       "    }\n",
       "\n",
       "    .dataframe thead th {\n",
       "        text-align: right;\n",
       "    }\n",
       "</style>\n",
       "<table border=\"1\" class=\"dataframe\">\n",
       "  <thead>\n",
       "    <tr style=\"text-align: right;\">\n",
       "      <th></th>\n",
       "      <th>eid</th>\n",
       "      <th>A1</th>\n",
       "      <th>A2</th>\n",
       "      <th>B1</th>\n",
       "      <th>B2</th>\n",
       "      <th>C1</th>\n",
       "      <th>C2</th>\n",
       "      <th>zygosity</th>\n",
       "      <th>effective_zygosity</th>\n",
       "      <th>grantham_divergence</th>\n",
       "    </tr>\n",
       "  </thead>\n",
       "  <tbody>\n",
       "    <tr>\n",
       "      <th>0</th>\n",
       "      <td>1000013</td>\n",
       "      <td>A*02:01</td>\n",
       "      <td>A*02:01</td>\n",
       "      <td>B*44:02</td>\n",
       "      <td>B*57:01</td>\n",
       "      <td>C*05:01</td>\n",
       "      <td>C*06:02</td>\n",
       "      <td>1</td>\n",
       "      <td>1</td>\n",
       "      <td>31.481250</td>\n",
       "    </tr>\n",
       "    <tr>\n",
       "      <th>1</th>\n",
       "      <td>1000024</td>\n",
       "      <td>A*01:01</td>\n",
       "      <td>A*01:01</td>\n",
       "      <td>B*07:02</td>\n",
       "      <td>B*08:01</td>\n",
       "      <td>C*07:01</td>\n",
       "      <td>C*07:02</td>\n",
       "      <td>1</td>\n",
       "      <td>1</td>\n",
       "      <td>32.060417</td>\n",
       "    </tr>\n",
       "    <tr>\n",
       "      <th>2</th>\n",
       "      <td>1000036</td>\n",
       "      <td>A*02:01</td>\n",
       "      <td>A*34:02</td>\n",
       "      <td>B*14:01</td>\n",
       "      <td>B*44:02</td>\n",
       "      <td>C*05:01</td>\n",
       "      <td>C*08:02</td>\n",
       "      <td>0</td>\n",
       "      <td>0</td>\n",
       "      <td>30.402083</td>\n",
       "    </tr>\n",
       "    <tr>\n",
       "      <th>3</th>\n",
       "      <td>1000048</td>\n",
       "      <td>A*02:01</td>\n",
       "      <td>A*68:01</td>\n",
       "      <td>B*07:02</td>\n",
       "      <td>B*51:01</td>\n",
       "      <td>C*01:02</td>\n",
       "      <td>C*07:02</td>\n",
       "      <td>0</td>\n",
       "      <td>0</td>\n",
       "      <td>34.847917</td>\n",
       "    </tr>\n",
       "    <tr>\n",
       "      <th>4</th>\n",
       "      <td>1000055</td>\n",
       "      <td>A*01:01</td>\n",
       "      <td>A*03:01</td>\n",
       "      <td>B*13:02</td>\n",
       "      <td>B*57:01</td>\n",
       "      <td>C*06:02</td>\n",
       "      <td>C*06:02</td>\n",
       "      <td>1</td>\n",
       "      <td>1</td>\n",
       "      <td>33.218750</td>\n",
       "    </tr>\n",
       "    <tr>\n",
       "      <th>...</th>\n",
       "      <td>...</td>\n",
       "      <td>...</td>\n",
       "      <td>...</td>\n",
       "      <td>...</td>\n",
       "      <td>...</td>\n",
       "      <td>...</td>\n",
       "      <td>...</td>\n",
       "      <td>...</td>\n",
       "      <td>...</td>\n",
       "      <td>...</td>\n",
       "    </tr>\n",
       "    <tr>\n",
       "      <th>488260</th>\n",
       "      <td>6025313</td>\n",
       "      <td>A*01:01</td>\n",
       "      <td>A*02:01</td>\n",
       "      <td>B*40:01</td>\n",
       "      <td>B*44:02</td>\n",
       "      <td>C*03:04</td>\n",
       "      <td>C*05:01</td>\n",
       "      <td>0</td>\n",
       "      <td>0</td>\n",
       "      <td>32.858333</td>\n",
       "    </tr>\n",
       "    <tr>\n",
       "      <th>488261</th>\n",
       "      <td>6025324</td>\n",
       "      <td>A*01:01</td>\n",
       "      <td>A*01:01</td>\n",
       "      <td>B*08:01</td>\n",
       "      <td>B*57:01</td>\n",
       "      <td>C*06:02</td>\n",
       "      <td>C*07:01</td>\n",
       "      <td>1</td>\n",
       "      <td>1</td>\n",
       "      <td>34.416667</td>\n",
       "    </tr>\n",
       "    <tr>\n",
       "      <th>488262</th>\n",
       "      <td>6025348</td>\n",
       "      <td>A*24:02</td>\n",
       "      <td>A*24:02</td>\n",
       "      <td>B*15:01</td>\n",
       "      <td>B*51:01</td>\n",
       "      <td>C*02:02</td>\n",
       "      <td>C*03:03</td>\n",
       "      <td>1</td>\n",
       "      <td>1</td>\n",
       "      <td>33.577083</td>\n",
       "    </tr>\n",
       "    <tr>\n",
       "      <th>488263</th>\n",
       "      <td>6025355</td>\n",
       "      <td>A*02:01</td>\n",
       "      <td>A*03:01</td>\n",
       "      <td>B*15:01</td>\n",
       "      <td>B*44:02</td>\n",
       "      <td>C*03:04</td>\n",
       "      <td>C*05:01</td>\n",
       "      <td>0</td>\n",
       "      <td>0</td>\n",
       "      <td>28.656250</td>\n",
       "    </tr>\n",
       "    <tr>\n",
       "      <th>488264</th>\n",
       "      <td>6025367</td>\n",
       "      <td>A*34:02</td>\n",
       "      <td>A*68:02</td>\n",
       "      <td>B*35:01</td>\n",
       "      <td>B*42:01</td>\n",
       "      <td>C*06:02</td>\n",
       "      <td>C*17:01</td>\n",
       "      <td>0</td>\n",
       "      <td>0</td>\n",
       "      <td>29.500000</td>\n",
       "    </tr>\n",
       "  </tbody>\n",
       "</table>\n",
       "<p>488265 rows × 10 columns</p>\n",
       "</div>"
      ],
      "text/plain": [
       "            eid       A1       A2       B1       B2       C1       C2  \\\n",
       "0       1000013  A*02:01  A*02:01  B*44:02  B*57:01  C*05:01  C*06:02   \n",
       "1       1000024  A*01:01  A*01:01  B*07:02  B*08:01  C*07:01  C*07:02   \n",
       "2       1000036  A*02:01  A*34:02  B*14:01  B*44:02  C*05:01  C*08:02   \n",
       "3       1000048  A*02:01  A*68:01  B*07:02  B*51:01  C*01:02  C*07:02   \n",
       "4       1000055  A*01:01  A*03:01  B*13:02  B*57:01  C*06:02  C*06:02   \n",
       "...         ...      ...      ...      ...      ...      ...      ...   \n",
       "488260  6025313  A*01:01  A*02:01  B*40:01  B*44:02  C*03:04  C*05:01   \n",
       "488261  6025324  A*01:01  A*01:01  B*08:01  B*57:01  C*06:02  C*07:01   \n",
       "488262  6025348  A*24:02  A*24:02  B*15:01  B*51:01  C*02:02  C*03:03   \n",
       "488263  6025355  A*02:01  A*03:01  B*15:01  B*44:02  C*03:04  C*05:01   \n",
       "488264  6025367  A*34:02  A*68:02  B*35:01  B*42:01  C*06:02  C*17:01   \n",
       "\n",
       "        zygosity  effective_zygosity  grantham_divergence  \n",
       "0              1                   1            31.481250  \n",
       "1              1                   1            32.060417  \n",
       "2              0                   0            30.402083  \n",
       "3              0                   0            34.847917  \n",
       "4              1                   1            33.218750  \n",
       "...          ...                 ...                  ...  \n",
       "488260         0                   0            32.858333  \n",
       "488261         1                   1            34.416667  \n",
       "488262         1                   1            33.577083  \n",
       "488263         0                   0            28.656250  \n",
       "488264         0                   0            29.500000  \n",
       "\n",
       "[488265 rows x 10 columns]"
      ]
     },
     "execution_count": 8,
     "metadata": {},
     "output_type": "execute_result"
    }
   ],
   "source": [
    "HLA_alleles"
   ]
  },
  {
   "cell_type": "code",
   "execution_count": 9,
   "id": "8f25f84f",
   "metadata": {},
   "outputs": [],
   "source": [
    "allele_columns = [\"A1\", \"A2\", \"B1\", \"B2\", \"C1\", \"C2\"]\n",
    "if \"grantham_divergence\" not in HLA_alleles.columns:\n",
    "    sequences = HLA_alleles[allele_columns].apply(class_I_allele_map._map, axis=1)\n",
    "    distances = []\n",
    "    for sequence in tqdm(sequences, unit=\" sequence\"):\n",
    "        distances.append(grantham_distance.sequence_group_distance(sequence))\n",
    "\n",
    "    HLA_alleles[\"grantham_divergence\"] = distances\n",
    "    \n",
    "    save_path = constants.UK_BIOBANK_HLA_ALLELES_TSV_FULL_PATH\n",
    "    HLA_alleles.to_csv(save_path, sep='\\t', index=False)"
   ]
  },
  {
   "cell_type": "code",
   "execution_count": 27,
   "id": "c0a0ddfa",
   "metadata": {},
   "outputs": [
    {
     "name": "stdout",
     "output_type": "stream",
     "text": [
      "Elapsed time: 0.0727 seconds\n"
     ]
    },
    {
     "data": {
      "image/png": "[encoded data removed]",
      "text/plain": [
       "<Figure size 1008x432 with 1 Axes>"
      ]
     },
     "metadata": {
      "needs_background": "light"
     },
     "output_type": "display_data"
    }
   ],
   "source": [
    "x, hue = \"grantham_divergence\", \"zygosity\"\n",
    "\n",
    "fig, ax = plt.subplots(figsize=(14, 6))\n",
    "with Timer() as t:\n",
    "    kde_plot(data=HLA_alleles, x=x, hue=hue, ax=ax, bw=.1)\n",
    "\n",
    "add_plt_labels(ax, x=x)\n",
    "ax.set_title(\"UK BioBank HLA Grantham Divergences\")\n",
    "ax.legend(title=\"HLA Zygosity\")\n",
    "\n",
    "fig.savefig(constants.COVER_PLOTS_GENERIC_FILE_PATH.format(\"HLA_grantham_divergences.png\"), facecolor=\"#fffffe\")"
   ]
  },
  {
   "cell_type": "code",
   "execution_count": null,
   "id": "e20f615b",
   "metadata": {},
   "outputs": [],
   "source": []
  }
 ],
 "metadata": {
  "kernelspec": {
   "display_name": "Python 3",
   "language": "python",
   "name": "python3"
  },
  "language_info": {
   "codemirror_mode": {
    "name": "ipython",
    "version": 3
   },
   "file_extension": ".py",
   "mimetype": "text/x-python",
   "name": "python",
   "nbconvert_exporter": "python",
   "pygments_lexer": "ipython3",
   "version": "3.8.13"
  }
 },
 "nbformat": 4,
 "nbformat_minor": 5
}
