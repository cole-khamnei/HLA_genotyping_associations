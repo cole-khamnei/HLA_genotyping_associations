{
 "cells": [
  {
   "cell_type": "code",
   "execution_count": 1,
   "id": "4d005ded",
   "metadata": {},
   "outputs": [],
   "source": [
    "%load_ext autoreload\n",
    "%autoreload 2\n",
    "\n",
    "import os\n",
    "import sys\n",
    "HLA_associations_path = os.path.abspath(\"../\")\n",
    "sys.path.append(HLA_associations_path)\n",
    "\n",
    "import numpy as np\n",
    "import pandas as pd\n",
    "import matplotlib.pyplot as plt\n",
    "import seaborn as sns\n",
    "from tqdm.notebook import tqdm\n",
    "\n",
    "import constants, index_tools, data_tools, medical_code_tools\n",
    "from utilities import *"
   ]
  },
  {
   "cell_type": "code",
   "execution_count": 2,
   "id": "8f23c67d",
   "metadata": {},
   "outputs": [],
   "source": [
    "sns.set_palette(\"tab10\")\n",
    "plt.rcParams.update({'figure.max_open_warning': 0})"
   ]
  },
  {
   "cell_type": "markdown",
   "id": "4e39ef3b",
   "metadata": {},
   "source": [
    "# Load BioBank Components"
   ]
  },
  {
   "cell_type": "code",
   "execution_count": 3,
   "id": "f3db4b3c",
   "metadata": {},
   "outputs": [
    {
     "name": "stdout",
     "output_type": "stream",
     "text": [
      "Importing BioBank Index and Data:\n",
      "Missing 0 biobank index names\n",
      "369\n",
      "UK BioBank Data Loaded.\n",
      "Size: 41700 rows x 369 columns\n",
      "Elapsed time: 4.4412 seconds\n"
     ]
    },
    {
     "data": {
      "application/vnd.jupyter.widget-view+json": {
       "model_id": "75c24c13b8bb4e96b2ec0be7548a57e9",
       "version_major": 2,
       "version_minor": 0
      },
      "text/plain": [
       "Mapping ICD10 Codes:   0%|          | 0/315 [00:00<?, ? feature/s]"
      ]
     },
     "metadata": {},
     "output_type": "display_data"
    }
   ],
   "source": [
    "DEV_MODE = False\n",
    "biobank_data, biobank_index, med_code_mapping = data_tools.load_all_biobank_components(DEV_MODE, signifier=\"cancer\")"
   ]
  },
  {
   "cell_type": "code",
   "execution_count": 72,
   "id": "complex-orientation",
   "metadata": {},
   "outputs": [],
   "source": [
    "def get_unique_features_list(biobank_data: pd.DataFrame):\n",
    "    \"\"\"\"\"\"\n",
    "    unique_features = {}\n",
    "    for feature in biobank_data.columns:\n",
    "        feature_base = \"_\".join(feature.split(\"_\")[:-1]) if \".\" in feature else feature\n",
    "\n",
    "        if feature_base not in unique_features:\n",
    "            unique_features[feature_base] = feature\n",
    "\n",
    "        else:\n",
    "            saved_feature = unique_features[feature_base]\n",
    "            if len(saved_feature) > len(feature):\n",
    "                unique_features[feature_base] = feature\n",
    "\n",
    "            elif len(saved_feature) == len(feature):\n",
    "                if float(saved_feature.split(\"_\")[-1]) > float(feature.split(\"_\")[-1]):\n",
    "                    unique_features[feature_base] = feature\n",
    "\n",
    "    return list(unique_features.values())\n",
    "\n",
    "unique_features = get_unique_features_list(biobank_data)"
   ]
  },
  {
   "cell_type": "code",
   "execution_count": 5,
   "id": "seventh-breast",
   "metadata": {},
   "outputs": [
    {
     "data": {
      "text/plain": [
       "20"
      ]
     },
     "execution_count": 5,
     "metadata": {},
     "output_type": "execute_result"
    }
   ],
   "source": [
    "feature_bases = [\"_\".join(feature.split(\"_\")[:-1]) if \".\" in feature else feature for feature in biobank_data.columns]\n",
    "\n",
    "unique_features = {}\n",
    "for feature in biobank_data.columns:\n",
    "    feature_base = \"_\".join(feature.split(\"_\")[:-1]) if \".\" in feature else feature\n",
    "\n",
    "    if feature_base not in unique_features:\n",
    "        unique_features[feature_base] = [feature]\n",
    "    else:\n",
    "        unique_features[feature_base].append(feature)\n",
    "\n",
    "# unique_feature_bases, counts = np.unique(feature_bases, return_counts=True)\n",
    "# counts\n",
    "\n",
    "exception_feature_bases = [\"genetic_PCs\"]\n",
    "\n",
    "multiple_features = {feature_base: features for feature_base, features in unique_features.items()\n",
    "                     if len(features) > 1 and feature_base not in exception_feature_bases}\n",
    "single_features = [features[0] for feature_base, features in unique_features.items() if len(features) == 1]\n",
    "single_features += [feature for feature_base, features in unique_features.items() for feature in features\n",
    "                    if feature_base in exception_feature_bases]\n",
    "\n",
    "primary_features = [features[0] for features in multiple_features.values()]\n",
    "\n",
    "secondary_features = {features[0]: features[1:] for features in multiple_features.values()}\n",
    "secondary_features\n",
    "len(secondary_features)"
   ]
  },
  {
   "cell_type": "code",
   "execution_count": 7,
   "id": "looking-portugal",
   "metadata": {},
   "outputs": [],
   "source": [
    "all_secondary_features = [feature for features in secondary_features.values() for feature in features]"
   ]
  },
  {
   "cell_type": "code",
   "execution_count": 10,
   "id": "empirical-maker",
   "metadata": {},
   "outputs": [],
   "source": [
    "secondary_feature_to_primary = {feature: features[0] for features in multiple_features.values() for feature in features}\n",
    "secondary_feature_df = pd.DataFrame(dict([ (k, pd.Series(v)) for k, v in secondary_features.items() ]))"
   ]
  },
  {
   "cell_type": "code",
   "execution_count": null,
   "id": "spatial-burner",
   "metadata": {},
   "outputs": [
    {
     "data": {
      "application/vnd.jupyter.widget-view+json": {
       "model_id": "4b087a336d8a4b88b0e273eb602faede",
       "version_major": 2,
       "version_minor": 0
      },
      "text/plain": [
       "Melting BioBank:   0%|          | 0/41700 [00:00<?, ? People/s]"
      ]
     },
     "metadata": {},
     "output_type": "display_data"
    }
   ],
   "source": [
    "TESTING_N = 1\n",
    "\n",
    "secondary_feature_sets = secondary_feature_df.values.tolist()\n",
    "secondary_feature_sets = [np.array([feature for feature in feature_set if not feature is np.nan])\n",
    "                          for feature_set in secondary_feature_sets]\n",
    "secondary_feature_set_indexs = [np.array([secondary_feature_to_primary[feature] for feature in feature_set])\n",
    "                                        for feature_set in secondary_feature_sets]\n",
    "primary_rows, secondary_rows = [], []\n",
    "for i, row in tqdm(biobank_data.iterrows(), total=len(biobank_data), desc=\"Melting BioBank\", unit=\" People\"):\n",
    "    base_row = row[single_features + primary_features].copy(deep=True)\n",
    "    primary_rows.append(base_row)\n",
    "        \n",
    "    for feature_set, feature_set_index in zip(secondary_feature_sets[:TESTING_N], secondary_feature_set_indexs[:TESTING_N]):\n",
    "        valued_indices = ~ row[feature_set].isna().values\n",
    "        if any(valued_indices):\n",
    "            new_row = base_row.copy(deep=True)\n",
    "            new_row[feature_set_index[valued_indices]] = row[feature_set[valued_indices]]\n",
    "            secondary_rows.append(new_row)\n"
   ]
  },
  {
   "cell_type": "code",
   "execution_count": null,
   "id": "retained-contents",
   "metadata": {},
   "outputs": [],
   "source": []
  }
 ],
 "metadata": {
  "kernelspec": {
   "display_name": "Python 3",
   "language": "python",
   "name": "python3"
  },
  "language_info": {
   "codemirror_mode": {
    "name": "ipython",
    "version": 3
   },
   "file_extension": ".py",
   "mimetype": "text/x-python",
   "name": "python",
   "nbconvert_exporter": "python",
   "pygments_lexer": "ipython3",
   "version": "3.7.4"
  }
 },
 "nbformat": 4,
 "nbformat_minor": 5
}
