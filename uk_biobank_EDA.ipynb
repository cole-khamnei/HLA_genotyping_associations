{
 "cells": [
  {
   "cell_type": "code",
   "execution_count": 2,
   "id": "competitive-saint",
   "metadata": {},
   "outputs": [],
   "source": [
    "import os\n",
    "\n",
    "import numpy as np\n",
    "import pandas as pd\n",
    "import matplotlib.pyplot as plt\n",
    "import seaborn as sns\n",
    "\n",
    "from bs4 import BeautifulSoup as bsoup\n",
    "\n",
    "import constants"
   ]
  },
  {
   "cell_type": "code",
   "execution_count": 12,
   "id": "fbf0a272",
   "metadata": {},
   "outputs": [],
   "source": [
    "test_run = True\n",
    "\n",
    "ukbb_data_file = \"small_ukbiobank.csv\" if test_run else \"ukbiobank.csv\"\n",
    "ukbb_data_path = os.path.join(constants.UK_BIOBANK_DATA_PATH, ukbb_data_file)\n",
    "\n",
    "ukbb_index_html_path = os.path.join(constants.UK_BIOBANK_DATA_PATH, \"ukbiobank.html\")\n",
    "ukbb_index_csv_path = os.path.join(constants.UK_BIOBANK_DATA_PATH, \"ukbiobank_index.csv\")"
   ]
  },
  {
   "cell_type": "code",
   "execution_count": 26,
   "id": "679bda30",
   "metadata": {},
   "outputs": [],
   "source": [
    "if os.path.exists(ukbb_index_csv_path):\n",
    "    ukbb_index = pd.read_csv(ukbb_index_csv_path)\n",
    "else:\n",
    "    ukbb_html = bsoup(open(ukbb_index_html_path,'r').read())\n",
    "    ukbb_index_html = ukbb_html.find_all(\"table\")[1]\n",
    "    ukbb_index = pd.read_html(str(ukbb_index_html))[0]\n",
    "    ukbb_index.columns = [col.lower() for col in ukbb_index.columns]\n",
    "    ukbb_index.to_csv(ukbb_index_csv_path, index=False)"
   ]
  },
  {
   "cell_type": "code",
   "execution_count": 27,
   "id": "64791c12",
   "metadata": {},
   "outputs": [
    {
     "data": {
      "text/html": [
       "<div>\n",
       "<style scoped>\n",
       "    .dataframe tbody tr th:only-of-type {\n",
       "        vertical-align: middle;\n",
       "    }\n",
       "\n",
       "    .dataframe tbody tr th {\n",
       "        vertical-align: top;\n",
       "    }\n",
       "\n",
       "    .dataframe thead th {\n",
       "        text-align: right;\n",
       "    }\n",
       "</style>\n",
       "<table border=\"1\" class=\"dataframe\">\n",
       "  <thead>\n",
       "    <tr style=\"text-align: right;\">\n",
       "      <th></th>\n",
       "      <th>column</th>\n",
       "      <th>udi</th>\n",
       "      <th>count</th>\n",
       "      <th>type</th>\n",
       "      <th>description</th>\n",
       "    </tr>\n",
       "  </thead>\n",
       "  <tbody>\n",
       "    <tr>\n",
       "      <th>0</th>\n",
       "      <td>0</td>\n",
       "      <td>eid</td>\n",
       "      <td>502543</td>\n",
       "      <td>Sequence</td>\n",
       "      <td>Encoded anonymised participant ID</td>\n",
       "    </tr>\n",
       "    <tr>\n",
       "      <th>1</th>\n",
       "      <td>1</td>\n",
       "      <td>23-0.0</td>\n",
       "      <td>456606</td>\n",
       "      <td>Categorical (single)</td>\n",
       "      <td>Spirometry methodUses data-coding 100270 compr...</td>\n",
       "    </tr>\n",
       "    <tr>\n",
       "      <th>2</th>\n",
       "      <td>2</td>\n",
       "      <td>23-1.0</td>\n",
       "      <td>18135</td>\n",
       "      <td>Categorical (single)</td>\n",
       "      <td>Spirometry methodUses data-coding 100270 compr...</td>\n",
       "    </tr>\n",
       "    <tr>\n",
       "      <th>3</th>\n",
       "      <td>3</td>\n",
       "      <td>23-2.0</td>\n",
       "      <td>26790</td>\n",
       "      <td>Categorical (single)</td>\n",
       "      <td>Spirometry methodUses data-coding 100270 compr...</td>\n",
       "    </tr>\n",
       "    <tr>\n",
       "      <th>4</th>\n",
       "      <td>4</td>\n",
       "      <td>31-0.0</td>\n",
       "      <td>502543</td>\n",
       "      <td>Categorical (single)</td>\n",
       "      <td>SexUses data-coding 9 comprises 2 Integer-valu...</td>\n",
       "    </tr>\n",
       "  </tbody>\n",
       "</table>\n",
       "</div>"
      ],
      "text/plain": [
       "   column     udi   count                  type  \\\n",
       "0       0     eid  502543              Sequence   \n",
       "1       1  23-0.0  456606  Categorical (single)   \n",
       "2       2  23-1.0   18135  Categorical (single)   \n",
       "3       3  23-2.0   26790  Categorical (single)   \n",
       "4       4  31-0.0  502543  Categorical (single)   \n",
       "\n",
       "                                         description  \n",
       "0                  Encoded anonymised participant ID  \n",
       "1  Spirometry methodUses data-coding 100270 compr...  \n",
       "2  Spirometry methodUses data-coding 100270 compr...  \n",
       "3  Spirometry methodUses data-coding 100270 compr...  \n",
       "4  SexUses data-coding 9 comprises 2 Integer-valu...  "
      ]
     },
     "execution_count": 27,
     "metadata": {},
     "output_type": "execute_result"
    }
   ],
   "source": [
    "ukbb_index.head()"
   ]
  },
  {
   "cell_type": "code",
   "execution_count": 28,
   "id": "1017535d",
   "metadata": {},
   "outputs": [],
   "source": [
    "ukbb_data = pd.read_csv(ukbb_data_path, low_memory=False)"
   ]
  },
  {
   "cell_type": "code",
   "execution_count": 31,
   "id": "defined-isaac",
   "metadata": {},
   "outputs": [
    {
     "data": {
      "text/plain": [
       "eid          9999\n",
       "23-0.0       9056\n",
       "23-1.0        363\n",
       "23-2.0        528\n",
       "31-0.0       9999\n",
       "             ... \n",
       "41247-0.3      13\n",
       "41247-0.4       2\n",
       "41247-0.5       1\n",
       "41247-0.6       0\n",
       "41252-0.0    7865\n",
       "Length: 3973, dtype: int64"
      ]
     },
     "execution_count": 31,
     "metadata": {},
     "output_type": "execute_result"
    }
   ],
   "source": [
    "ukbb_data.count()"
   ]
  },
  {
   "cell_type": "code",
   "execution_count": null,
   "id": "c5b0a805",
   "metadata": {},
   "outputs": [],
   "source": []
  }
 ],
 "metadata": {
  "kernelspec": {
   "display_name": "Python 3",
   "language": "python",
   "name": "python3"
  },
  "language_info": {
   "codemirror_mode": {
    "name": "ipython",
    "version": 3
   },
   "file_extension": ".py",
   "mimetype": "text/x-python",
   "name": "python",
   "nbconvert_exporter": "python",
   "pygments_lexer": "ipython3",
   "version": "3.9.12"
  }
 },
 "nbformat": 4,
 "nbformat_minor": 5
}
